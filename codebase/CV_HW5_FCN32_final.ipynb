{
 "cells": [
  {
   "cell_type": "code",
   "execution_count": 1,
   "metadata": {
    "id": "ni2CNDO7oH58"
   },
   "outputs": [],
   "source": [
    "import torch\n",
    "import torch.nn.functional as F\n",
    "from torchvision import datasets,transforms, models\n",
    "from torch import nn\n",
    "import matplotlib.pyplot as plt\n",
    "import numpy as np\n",
    "from sklearn.metrics import confusion_matrix\n",
    "from torch.utils.data import Dataset, DataLoader\n",
    "from natsort import natsorted\n",
    "from PIL import Image\n",
    "import os\n",
    "from sklearn.metrics import jaccard_score as jsc"
   ]
  },
  {
   "cell_type": "code",
   "execution_count": 2,
   "metadata": {
    "colab": {
     "base_uri": "https://localhost:8080/"
    },
    "id": "aKlnrMDNjLHc",
    "outputId": "d1b367f1-5ffb-424a-f53b-5a236d0b88b6"
   },
   "outputs": [
    {
     "name": "stdout",
     "output_type": "stream",
     "text": [
      "Mounted at /content/drive\n"
     ]
    }
   ],
   "source": [
    "from google.colab import drive\n",
    "drive.mount('/content/drive')"
   ]
  },
  {
   "cell_type": "code",
   "execution_count": 3,
   "metadata": {
    "colab": {
     "base_uri": "https://localhost:8080/",
     "height": 85,
     "referenced_widgets": [
      "11f8a19ac81048959f358ab48c6aeacb",
      "5800ec09231242acba8232c11aa5e8ad",
      "66ec2e6021d64e4098b1fdee0da4ac49",
      "a485ef5ef2784518a444d2667fa7f9bc",
      "0d20397e69fe47f0ae873044c1e2b4a7",
      "9dd064aac38448eaa95d35f671550162",
      "da308bd1a4b34eafbb206cc548e6cb06",
      "e4ba714a7b0e4405a675a73dcdb37d2a"
     ]
    },
    "id": "wyWe6FGfoH6C",
    "outputId": "a365c0f1-68dd-4344-cbe5-5e188ce5d446"
   },
   "outputs": [
    {
     "name": "stderr",
     "output_type": "stream",
     "text": [
      "Downloading: \"https://download.pytorch.org/models/vgg16-397923af.pth\" to /root/.cache/torch/hub/checkpoints/vgg16-397923af.pth\n"
     ]
    },
    {
     "data": {
      "application/vnd.jupyter.widget-view+json": {
       "model_id": "11f8a19ac81048959f358ab48c6aeacb",
       "version_major": 2,
       "version_minor": 0
      },
      "text/plain": [
       "HBox(children=(FloatProgress(value=0.0, max=553433881.0), HTML(value='')))"
      ]
     },
     "metadata": {
      "tags": []
     },
     "output_type": "display_data"
    },
    {
     "name": "stdout",
     "output_type": "stream",
     "text": [
      "\n"
     ]
    }
   ],
   "source": [
    "device = torch.device(\"cuda:0\" if torch.cuda.is_available() else \"cpu\")\n",
    "main_dir = './drive/My Drive/hw5/training/image_2'\n",
    "label_dir = './drive/My Drive/hw5/training/semantic'\n",
    "\n",
    "# Loading pretrained model and its convolution layers\n",
    "pretrained_model = models.vgg16(pretrained = True)\n",
    "features = list(pretrained_model.features.children())\n",
    "features[0].padding=(100,100)"
   ]
  },
  {
   "cell_type": "code",
   "execution_count": 4,
   "metadata": {
    "id": "pVN0_wqioH6F"
   },
   "outputs": [],
   "source": [
    "class FCN32(nn.Module):\n",
    "    def __init__(self):\n",
    "        super(FCN32,self).__init__()\n",
    "        self.features_map=nn.Sequential(*features)\n",
    "        self.conv=nn.Sequential(nn.Conv2d(512,4096,7),\n",
    "                                nn.ReLU(inplace=True),\n",
    "                                nn.Dropout(),\n",
    "                                nn.Conv2d(4096,4096,1),\n",
    "                                nn.ReLU(inplace=True),\n",
    "                                nn.Dropout()\n",
    "                                )\n",
    "        self.score_fr=nn.Conv2d(4096,35,1)\n",
    "        self.upscore=nn.ConvTranspose2d(35,35,64,32, bias = False)\n",
    "        \n",
    "    def forward(self,x):\n",
    "        x_size=x.size()\n",
    "        pool=self.conv(self.features_map(x))\n",
    "        score_fr=self.score_fr(pool)\n",
    "        upscore=self.upscore(score_fr)\n",
    "        return upscore[:,:,19:(19+x_size[2]),19:(19+x_size[3])].contiguous()\n",
    "        \n",
    "        \n",
    "        "
   ]
  },
  {
   "cell_type": "code",
   "execution_count": 5,
   "metadata": {
    "id": "OcxpDAzKoH6I"
   },
   "outputs": [],
   "source": [
    "class CustomDataset(Dataset):\n",
    "    def __init__(self, main_dir, label_dir, transform):\n",
    "        self.main_dir = main_dir\n",
    "        self.label_dir = label_dir\n",
    "        self.transform = transform\n",
    "        all_imgs = os.listdir(main_dir)\n",
    "        all_imgs_label = os.listdir(label_dir)\n",
    "        self.total_imgs = natsorted(all_imgs)\n",
    "        self.total_imgs_label = natsorted(all_imgs_label)\n",
    "        \n",
    "    def __len__(self):\n",
    "        return len(self.total_imgs)\n",
    "    \n",
    "    def __getitem__(self, idx):\n",
    "        img_loc = os.path.join(self.main_dir, self.total_imgs[idx])\n",
    "        img_loc_label = os.path.join(self.label_dir, self.total_imgs_label[idx] )\n",
    "        image = Image.open(img_loc).convert('RGB')\n",
    "        labels = Image.open(img_loc_label).convert('P')\n",
    "        tensor_image = self.transform(image)\n",
    "        tensor_label = self.transform(labels)\n",
    "        return (tensor_image, (tensor_label*255).type(torch.LongTensor))"
   ]
  },
  {
   "cell_type": "code",
   "execution_count": 6,
   "metadata": {
    "id": "acdO4ClCoH6L"
   },
   "outputs": [],
   "source": [
    "transform = transforms.Compose([transforms.Resize((256,1024)),\n",
    "                                transforms.ToTensor()])\n",
    "\n",
    "\n",
    "train_data = CustomDataset(main_dir, label_dir, transform)\n",
    "\n",
    "length_train=int(0.7*len(train_data))\n",
    "length_val= int(0.15*len(train_data))\n",
    "length_test = len(train_data) - length_train - length_val\n",
    "\n",
    "train, val, test = torch.utils.data.random_split(train_data, [length_train, length_val, length_test])\n",
    "\n",
    "\n",
    "training_loader = torch.utils.data.DataLoader(train, batch_size=1, shuffle=False)\n",
    "validation_loader = torch.utils.data.DataLoader(val, batch_size = 1, shuffle=False)\n",
    "test_loader = torch.utils.data.DataLoader(test, batch_size = 1, shuffle = False)"
   ]
  },
  {
   "cell_type": "code",
   "execution_count": 7,
   "metadata": {
    "colab": {
     "base_uri": "https://localhost:8080/"
    },
    "id": "iHjhBkEpKcwC",
    "outputId": "45c844ae-767d-47d5-fd95-27e46f6bb7ed"
   },
   "outputs": [
    {
     "name": "stdout",
     "output_type": "stream",
     "text": [
      "torch.Size([1, 3, 256, 1024]) torch.Size([1, 1, 256, 1024])\n"
     ]
    }
   ],
   "source": [
    "for image, labels in training_loader:\n",
    "  print(image.size(), labels.size())\n",
    "  break"
   ]
  },
  {
   "cell_type": "code",
   "execution_count": 8,
   "metadata": {
    "colab": {
     "base_uri": "https://localhost:8080/"
    },
    "id": "ltHFT5avoH6N",
    "outputId": "6c7dd3b6-8357-4d3f-9224-87aa45312df4"
   },
   "outputs": [
    {
     "data": {
      "text/plain": [
       "FCN32(\n",
       "  (features_map): Sequential(\n",
       "    (0): Conv2d(3, 64, kernel_size=(3, 3), stride=(1, 1), padding=(100, 100))\n",
       "    (1): ReLU(inplace=True)\n",
       "    (2): Conv2d(64, 64, kernel_size=(3, 3), stride=(1, 1), padding=(1, 1))\n",
       "    (3): ReLU(inplace=True)\n",
       "    (4): MaxPool2d(kernel_size=2, stride=2, padding=0, dilation=1, ceil_mode=False)\n",
       "    (5): Conv2d(64, 128, kernel_size=(3, 3), stride=(1, 1), padding=(1, 1))\n",
       "    (6): ReLU(inplace=True)\n",
       "    (7): Conv2d(128, 128, kernel_size=(3, 3), stride=(1, 1), padding=(1, 1))\n",
       "    (8): ReLU(inplace=True)\n",
       "    (9): MaxPool2d(kernel_size=2, stride=2, padding=0, dilation=1, ceil_mode=False)\n",
       "    (10): Conv2d(128, 256, kernel_size=(3, 3), stride=(1, 1), padding=(1, 1))\n",
       "    (11): ReLU(inplace=True)\n",
       "    (12): Conv2d(256, 256, kernel_size=(3, 3), stride=(1, 1), padding=(1, 1))\n",
       "    (13): ReLU(inplace=True)\n",
       "    (14): Conv2d(256, 256, kernel_size=(3, 3), stride=(1, 1), padding=(1, 1))\n",
       "    (15): ReLU(inplace=True)\n",
       "    (16): MaxPool2d(kernel_size=2, stride=2, padding=0, dilation=1, ceil_mode=False)\n",
       "    (17): Conv2d(256, 512, kernel_size=(3, 3), stride=(1, 1), padding=(1, 1))\n",
       "    (18): ReLU(inplace=True)\n",
       "    (19): Conv2d(512, 512, kernel_size=(3, 3), stride=(1, 1), padding=(1, 1))\n",
       "    (20): ReLU(inplace=True)\n",
       "    (21): Conv2d(512, 512, kernel_size=(3, 3), stride=(1, 1), padding=(1, 1))\n",
       "    (22): ReLU(inplace=True)\n",
       "    (23): MaxPool2d(kernel_size=2, stride=2, padding=0, dilation=1, ceil_mode=False)\n",
       "    (24): Conv2d(512, 512, kernel_size=(3, 3), stride=(1, 1), padding=(1, 1))\n",
       "    (25): ReLU(inplace=True)\n",
       "    (26): Conv2d(512, 512, kernel_size=(3, 3), stride=(1, 1), padding=(1, 1))\n",
       "    (27): ReLU(inplace=True)\n",
       "    (28): Conv2d(512, 512, kernel_size=(3, 3), stride=(1, 1), padding=(1, 1))\n",
       "    (29): ReLU(inplace=True)\n",
       "    (30): MaxPool2d(kernel_size=2, stride=2, padding=0, dilation=1, ceil_mode=False)\n",
       "  )\n",
       "  (conv): Sequential(\n",
       "    (0): Conv2d(512, 4096, kernel_size=(7, 7), stride=(1, 1))\n",
       "    (1): ReLU(inplace=True)\n",
       "    (2): Dropout(p=0.5, inplace=False)\n",
       "    (3): Conv2d(4096, 4096, kernel_size=(1, 1), stride=(1, 1))\n",
       "    (4): ReLU(inplace=True)\n",
       "    (5): Dropout(p=0.5, inplace=False)\n",
       "  )\n",
       "  (score_fr): Conv2d(4096, 35, kernel_size=(1, 1), stride=(1, 1))\n",
       "  (upscore): ConvTranspose2d(35, 35, kernel_size=(64, 64), stride=(32, 32), bias=False)\n",
       ")"
      ]
     },
     "execution_count": 8,
     "metadata": {
      "tags": []
     },
     "output_type": "execute_result"
    }
   ],
   "source": [
    "model = FCN32().to(device)\n",
    "model"
   ]
  },
  {
   "cell_type": "code",
   "execution_count": 9,
   "metadata": {
    "id": "Dx7Q9CVUoH6Q"
   },
   "outputs": [],
   "source": [
    "criterion = nn.CrossEntropyLoss()\n",
    "optimizer = torch.optim.SGD(model.parameters(), lr = 0.001, momentum = 0.99) # fine tuned the lr"
   ]
  },
  {
   "cell_type": "code",
   "execution_count": 10,
   "metadata": {
    "colab": {
     "base_uri": "https://localhost:8080/"
    },
    "id": "J7qZBzz1oH6U",
    "outputId": "ef3b92ae-51ef-468c-9037-d58bf01c53e6"
   },
   "outputs": [
    {
     "name": "stdout",
     "output_type": "stream",
     "text": [
      "epoch : 1\n",
      "training loss: 3.5553, training iou(macro): 0.0067, training iou(micro): 0.0168\n",
      "validation loss: 3.5551, validation iou(macro): 0.0078, validation iou(micro): 0.0213\n",
      "epoch : 2\n",
      "training loss: 3.5543, training iou(macro): 0.0104, training iou(micro): 0.0418\n",
      "validation loss: 3.5524, validation iou(macro): 0.0138, validation iou(micro): 0.0822\n",
      "epoch : 3\n",
      "training loss: 3.0261, training iou(macro): 0.0162, training iou(micro): 0.1501\n",
      "validation loss: 2.2632, validation iou(macro): 0.0207, validation iou(micro): 0.2200\n",
      "epoch : 4\n",
      "training loss: 1.9130, training iou(macro): 0.0285, training iou(micro): 0.2806\n",
      "validation loss: 1.5767, validation iou(macro): 0.0489, validation iou(micro): 0.3562\n",
      "epoch : 5\n",
      "training loss: 1.5883, training iou(macro): 0.0473, training iou(micro): 0.3488\n",
      "validation loss: 1.6028, validation iou(macro): 0.0529, validation iou(micro): 0.3555\n",
      "epoch : 6\n",
      "training loss: 1.4862, training iou(macro): 0.0531, training iou(micro): 0.3750\n",
      "validation loss: 1.5472, validation iou(macro): 0.0591, validation iou(micro): 0.3831\n",
      "epoch : 7\n",
      "training loss: 1.4521, training iou(macro): 0.0569, training iou(micro): 0.3842\n",
      "validation loss: 1.5865, validation iou(macro): 0.0641, validation iou(micro): 0.3836\n",
      "epoch : 8\n",
      "training loss: 1.4682, training iou(macro): 0.0600, training iou(micro): 0.3992\n",
      "validation loss: 1.7016, validation iou(macro): 0.0625, validation iou(micro): 0.3592\n",
      "epoch : 9\n",
      "training loss: 1.2922, training iou(macro): 0.0708, training iou(micro): 0.4507\n",
      "validation loss: 1.4275, validation iou(macro): 0.0782, validation iou(micro): 0.4118\n",
      "epoch : 10\n",
      "training loss: 1.2056, training iou(macro): 0.0757, training iou(micro): 0.4658\n",
      "validation loss: 1.2265, validation iou(macro): 0.0926, validation iou(micro): 0.4665\n",
      "epoch : 11\n",
      "training loss: 1.0560, training iou(macro): 0.0966, training iou(micro): 0.5316\n",
      "validation loss: 1.1341, validation iou(macro): 0.1161, validation iou(micro): 0.5329\n",
      "epoch : 12\n",
      "training loss: 0.9663, training iou(macro): 0.1096, training iou(micro): 0.5717\n",
      "validation loss: 1.1507, validation iou(macro): 0.1207, validation iou(micro): 0.5270\n",
      "epoch : 13\n",
      "training loss: 0.9339, training iou(macro): 0.1142, training iou(micro): 0.5837\n",
      "validation loss: 1.0022, validation iou(macro): 0.1266, validation iou(micro): 0.5740\n",
      "epoch : 14\n",
      "training loss: 0.8831, training iou(macro): 0.1211, training iou(micro): 0.6098\n",
      "validation loss: 0.9970, validation iou(macro): 0.1294, validation iou(micro): 0.5706\n",
      "epoch : 15\n",
      "training loss: 0.8622, training iou(macro): 0.1215, training iou(micro): 0.6110\n",
      "validation loss: 1.0998, validation iou(macro): 0.1325, validation iou(micro): 0.5838\n",
      "epoch : 16\n",
      "training loss: 0.8111, training iou(macro): 0.1263, training iou(micro): 0.6242\n",
      "validation loss: 0.9369, validation iou(macro): 0.1395, validation iou(micro): 0.6003\n",
      "epoch : 17\n",
      "training loss: 0.7822, training iou(macro): 0.1310, training iou(micro): 0.6371\n",
      "validation loss: 1.0805, validation iou(macro): 0.1361, validation iou(micro): 0.5970\n",
      "epoch : 18\n",
      "training loss: 0.7598, training iou(macro): 0.1327, training iou(micro): 0.6443\n",
      "validation loss: 0.9219, validation iou(macro): 0.1420, validation iou(micro): 0.6051\n",
      "epoch : 19\n",
      "training loss: 0.7299, training iou(macro): 0.1347, training iou(micro): 0.6465\n",
      "validation loss: 0.9746, validation iou(macro): 0.1388, validation iou(micro): 0.5962\n",
      "epoch : 20\n",
      "training loss: 0.7278, training iou(macro): 0.1365, training iou(micro): 0.6497\n",
      "validation loss: 0.9086, validation iou(macro): 0.1445, validation iou(micro): 0.6165\n",
      "epoch : 21\n",
      "training loss: 0.7159, training iou(macro): 0.1367, training iou(micro): 0.6525\n",
      "validation loss: 0.9747, validation iou(macro): 0.1407, validation iou(micro): 0.6028\n",
      "epoch : 22\n",
      "training loss: 0.6922, training iou(macro): 0.1407, training iou(micro): 0.6646\n",
      "validation loss: 0.8708, validation iou(macro): 0.1508, validation iou(micro): 0.6230\n",
      "epoch : 23\n",
      "training loss: 0.6583, training iou(macro): 0.1483, training iou(micro): 0.6766\n",
      "validation loss: 0.8397, validation iou(macro): 0.1596, validation iou(micro): 0.6433\n",
      "epoch : 24\n",
      "training loss: 0.6219, training iou(macro): 0.1530, training iou(micro): 0.6871\n",
      "validation loss: 0.7957, validation iou(macro): 0.1560, validation iou(micro): 0.6432\n",
      "epoch : 25\n",
      "training loss: 0.6118, training iou(macro): 0.1672, training iou(micro): 0.6934\n",
      "validation loss: 0.8224, validation iou(macro): 0.1562, validation iou(micro): 0.6302\n",
      "epoch : 26\n",
      "training loss: 0.6913, training iou(macro): 0.1585, training iou(micro): 0.6818\n",
      "validation loss: 0.8748, validation iou(macro): 0.1553, validation iou(micro): 0.6215\n",
      "epoch : 27\n",
      "training loss: 0.6516, training iou(macro): 0.1557, training iou(micro): 0.6843\n",
      "validation loss: 0.8688, validation iou(macro): 0.1560, validation iou(micro): 0.6323\n",
      "epoch : 28\n",
      "training loss: 0.5867, training iou(macro): 0.1649, training iou(micro): 0.7017\n",
      "validation loss: 0.7851, validation iou(macro): 0.1720, validation iou(micro): 0.6551\n",
      "epoch : 29\n",
      "training loss: 0.5335, training iou(macro): 0.1830, training iou(micro): 0.7195\n",
      "validation loss: 0.7443, validation iou(macro): 0.1675, validation iou(micro): 0.6653\n",
      "epoch : 30\n",
      "training loss: 0.4995, training iou(macro): 0.2137, training iou(micro): 0.7372\n",
      "validation loss: 0.7514, validation iou(macro): 0.1773, validation iou(micro): 0.6690\n",
      "epoch : 31\n",
      "training loss: 0.4881, training iou(macro): 0.2308, training iou(micro): 0.7427\n",
      "validation loss: 0.7695, validation iou(macro): 0.1843, validation iou(micro): 0.6662\n",
      "epoch : 32\n",
      "training loss: 0.4708, training iou(macro): 0.2562, training iou(micro): 0.7495\n",
      "validation loss: 0.7417, validation iou(macro): 0.1877, validation iou(micro): 0.6698\n",
      "epoch : 33\n",
      "training loss: 0.4903, training iou(macro): 0.2077, training iou(micro): 0.7415\n",
      "validation loss: 0.7141, validation iou(macro): 0.1912, validation iou(micro): 0.6687\n",
      "epoch : 34\n",
      "training loss: 0.4970, training iou(macro): 0.2347, training iou(micro): 0.7402\n",
      "validation loss: 0.8048, validation iou(macro): 0.1784, validation iou(micro): 0.6465\n",
      "epoch : 35\n",
      "training loss: 0.5254, training iou(macro): 0.2473, training iou(micro): 0.7268\n",
      "validation loss: 0.8230, validation iou(macro): 0.1828, validation iou(micro): 0.6404\n",
      "epoch : 36\n",
      "training loss: 0.5415, training iou(macro): 0.2545, training iou(micro): 0.7179\n",
      "validation loss: 0.8498, validation iou(macro): 0.1829, validation iou(micro): 0.6420\n",
      "epoch : 37\n",
      "training loss: 0.5193, training iou(macro): 0.2577, training iou(micro): 0.7303\n",
      "validation loss: 0.8665, validation iou(macro): 0.1862, validation iou(micro): 0.6458\n",
      "epoch : 38\n",
      "training loss: 0.4991, training iou(macro): 0.2743, training iou(micro): 0.7411\n",
      "validation loss: 0.7575, validation iou(macro): 0.2020, validation iou(micro): 0.6775\n",
      "epoch : 39\n",
      "training loss: 0.4695, training iou(macro): 0.2865, training iou(micro): 0.7480\n",
      "validation loss: 0.7601, validation iou(macro): 0.2019, validation iou(micro): 0.6694\n",
      "epoch : 40\n",
      "training loss: 0.4349, training iou(macro): 0.2897, training iou(micro): 0.7647\n",
      "validation loss: 0.7383, validation iou(macro): 0.2125, validation iou(micro): 0.6691\n",
      "epoch : 41\n",
      "training loss: 0.4404, training iou(macro): 0.2917, training iou(micro): 0.7645\n",
      "validation loss: 0.7752, validation iou(macro): 0.2118, validation iou(micro): 0.6609\n",
      "epoch : 42\n",
      "training loss: 0.4191, training iou(macro): 0.3180, training iou(micro): 0.7727\n",
      "validation loss: 0.7799, validation iou(macro): 0.2257, validation iou(micro): 0.6936\n",
      "epoch : 43\n",
      "training loss: 0.4051, training iou(macro): 0.3296, training iou(micro): 0.7782\n",
      "validation loss: 0.7238, validation iou(macro): 0.2252, validation iou(micro): 0.6814\n",
      "epoch : 44\n",
      "training loss: 0.3883, training iou(macro): 0.2944, training iou(micro): 0.7855\n",
      "validation loss: 0.7506, validation iou(macro): 0.2287, validation iou(micro): 0.6761\n",
      "epoch : 45\n",
      "training loss: 0.3951, training iou(macro): 0.3423, training iou(micro): 0.7842\n",
      "validation loss: 0.8821, validation iou(macro): 0.2194, validation iou(micro): 0.6520\n",
      "epoch : 46\n",
      "training loss: 0.4051, training iou(macro): 0.3402, training iou(micro): 0.7796\n",
      "validation loss: 0.7741, validation iou(macro): 0.2257, validation iou(micro): 0.6709\n",
      "epoch : 47\n",
      "training loss: 0.4133, training iou(macro): 0.3175, training iou(micro): 0.7769\n",
      "validation loss: 0.7436, validation iou(macro): 0.2256, validation iou(micro): 0.6816\n",
      "epoch : 48\n",
      "training loss: 0.4111, training iou(macro): 0.3308, training iou(micro): 0.7769\n",
      "validation loss: 0.6943, validation iou(macro): 0.2246, validation iou(micro): 0.6867\n",
      "epoch : 49\n",
      "training loss: 0.3775, training iou(macro): 0.3539, training iou(micro): 0.7926\n",
      "validation loss: 0.7419, validation iou(macro): 0.2266, validation iou(micro): 0.6869\n",
      "epoch : 50\n",
      "training loss: 0.3638, training iou(macro): 0.3682, training iou(micro): 0.7973\n",
      "validation loss: 0.6909, validation iou(macro): 0.2309, validation iou(micro): 0.6950\n",
      "epoch : 51\n",
      "training loss: 0.3443, training iou(macro): 0.3795, training iou(micro): 0.8054\n",
      "validation loss: 0.7354, validation iou(macro): 0.2420, validation iou(micro): 0.6949\n",
      "epoch : 52\n",
      "training loss: 0.3328, training iou(macro): 0.3877, training iou(micro): 0.8108\n",
      "validation loss: 0.7044, validation iou(macro): 0.2435, validation iou(micro): 0.6969\n",
      "epoch : 53\n",
      "training loss: 0.3224, training iou(macro): 0.3945, training iou(micro): 0.8135\n",
      "validation loss: 0.6869, validation iou(macro): 0.2327, validation iou(micro): 0.6996\n",
      "epoch : 54\n",
      "training loss: 0.3169, training iou(macro): 0.3934, training iou(micro): 0.8166\n",
      "validation loss: 0.7038, validation iou(macro): 0.2373, validation iou(micro): 0.7018\n",
      "epoch : 55\n",
      "training loss: 0.3143, training iou(macro): 0.4047, training iou(micro): 0.8172\n",
      "validation loss: 0.7547, validation iou(macro): 0.2533, validation iou(micro): 0.6950\n",
      "epoch : 56\n",
      "training loss: 0.3099, training iou(macro): 0.4117, training iou(micro): 0.8192\n",
      "validation loss: 0.6931, validation iou(macro): 0.2364, validation iou(micro): 0.6967\n",
      "epoch : 57\n",
      "training loss: 0.3143, training iou(macro): 0.4132, training iou(micro): 0.8172\n",
      "validation loss: 0.7018, validation iou(macro): 0.2283, validation iou(micro): 0.6941\n",
      "epoch : 58\n",
      "training loss: 0.3137, training iou(macro): 0.4110, training iou(micro): 0.8178\n",
      "validation loss: 0.7303, validation iou(macro): 0.2411, validation iou(micro): 0.6859\n",
      "epoch : 59\n",
      "training loss: 0.3251, training iou(macro): 0.3967, training iou(micro): 0.8108\n",
      "validation loss: 0.7169, validation iou(macro): 0.2185, validation iou(micro): 0.6773\n",
      "epoch : 60\n",
      "training loss: 0.3300, training iou(macro): 0.4090, training iou(micro): 0.8104\n",
      "validation loss: 0.8225, validation iou(macro): 0.1865, validation iou(micro): 0.6596\n",
      "epoch : 61\n",
      "training loss: 0.3361, training iou(macro): 0.3823, training iou(micro): 0.8086\n",
      "validation loss: 0.7392, validation iou(macro): 0.1925, validation iou(micro): 0.6774\n",
      "epoch : 62\n",
      "training loss: 0.3210, training iou(macro): 0.3922, training iou(micro): 0.8132\n",
      "validation loss: 0.7076, validation iou(macro): 0.2291, validation iou(micro): 0.6901\n",
      "epoch : 63\n",
      "training loss: 0.3174, training iou(macro): 0.3585, training iou(micro): 0.8153\n",
      "validation loss: 0.7332, validation iou(macro): 0.2229, validation iou(micro): 0.6772\n",
      "epoch : 64\n",
      "training loss: 0.3137, training iou(macro): 0.3864, training iou(micro): 0.8156\n",
      "validation loss: 0.7270, validation iou(macro): 0.2353, validation iou(micro): 0.6870\n",
      "epoch : 65\n",
      "training loss: 0.3063, training iou(macro): 0.4256, training iou(micro): 0.8209\n",
      "validation loss: 0.7369, validation iou(macro): 0.2484, validation iou(micro): 0.6958\n",
      "epoch : 66\n",
      "training loss: 0.3078, training iou(macro): 0.4236, training iou(micro): 0.8183\n",
      "validation loss: 0.7303, validation iou(macro): 0.2377, validation iou(micro): 0.6924\n",
      "epoch : 67\n",
      "training loss: 0.3033, training iou(macro): 0.4243, training iou(micro): 0.8214\n",
      "validation loss: 0.7447, validation iou(macro): 0.2427, validation iou(micro): 0.6857\n",
      "epoch : 68\n",
      "training loss: 0.3016, training iou(macro): 0.3909, training iou(micro): 0.8202\n",
      "validation loss: 0.8459, validation iou(macro): 0.2445, validation iou(micro): 0.6741\n",
      "epoch : 69\n",
      "training loss: 0.3078, training iou(macro): 0.4389, training iou(micro): 0.8196\n",
      "validation loss: 0.7665, validation iou(macro): 0.2467, validation iou(micro): 0.6919\n",
      "epoch : 70\n",
      "training loss: 0.2910, training iou(macro): 0.4200, training iou(micro): 0.8262\n",
      "validation loss: 0.6999, validation iou(macro): 0.2571, validation iou(micro): 0.7014\n",
      "epoch : 71\n",
      "training loss: 0.2774, training iou(macro): 0.4495, training iou(micro): 0.8327\n",
      "validation loss: 0.7443, validation iou(macro): 0.2117, validation iou(micro): 0.6965\n",
      "epoch : 72\n",
      "training loss: 0.2671, training iou(macro): 0.4624, training iou(micro): 0.8381\n",
      "validation loss: 0.7807, validation iou(macro): 0.2043, validation iou(micro): 0.6966\n",
      "epoch : 73\n",
      "training loss: 0.2606, training iou(macro): 0.4151, training iou(micro): 0.8414\n",
      "validation loss: 0.7886, validation iou(macro): 0.2009, validation iou(micro): 0.6929\n",
      "epoch : 74\n",
      "training loss: 0.2665, training iou(macro): 0.4159, training iou(micro): 0.8369\n",
      "validation loss: 0.7080, validation iou(macro): 0.2142, validation iou(micro): 0.7046\n",
      "epoch : 75\n",
      "training loss: 0.2693, training iou(macro): 0.4150, training iou(micro): 0.8355\n",
      "validation loss: 0.7463, validation iou(macro): 0.2645, validation iou(micro): 0.7023\n",
      "epoch : 76\n",
      "training loss: 0.2628, training iou(macro): 0.4607, training iou(micro): 0.8396\n",
      "validation loss: 0.7639, validation iou(macro): 0.2627, validation iou(micro): 0.7089\n",
      "epoch : 77\n",
      "training loss: 0.2570, training iou(macro): 0.4787, training iou(micro): 0.8422\n",
      "validation loss: 0.7547, validation iou(macro): 0.2596, validation iou(micro): 0.7083\n",
      "epoch : 78\n",
      "training loss: 0.2486, training iou(macro): 0.4239, training iou(micro): 0.8465\n",
      "validation loss: 0.7522, validation iou(macro): 0.2440, validation iou(micro): 0.7087\n",
      "epoch : 79\n",
      "training loss: 0.2385, training iou(macro): 0.4303, training iou(micro): 0.8519\n",
      "validation loss: 0.8110, validation iou(macro): 0.2192, validation iou(micro): 0.7033\n",
      "epoch : 80\n",
      "training loss: 0.2420, training iou(macro): 0.4402, training iou(micro): 0.8502\n",
      "validation loss: 0.8784, validation iou(macro): 0.2594, validation iou(micro): 0.7002\n",
      "epoch : 81\n",
      "training loss: 0.2418, training iou(macro): 0.4555, training iou(micro): 0.8502\n",
      "validation loss: 0.8815, validation iou(macro): 0.2601, validation iou(micro): 0.6992\n",
      "epoch : 82\n",
      "training loss: 0.2527, training iou(macro): 0.4524, training iou(micro): 0.8458\n",
      "validation loss: 0.8076, validation iou(macro): 0.2632, validation iou(micro): 0.7045\n",
      "epoch : 83\n",
      "training loss: 0.2629, training iou(macro): 0.4455, training iou(micro): 0.8401\n",
      "validation loss: 0.8686, validation iou(macro): 0.2511, validation iou(micro): 0.6940\n",
      "epoch : 84\n",
      "training loss: 0.2619, training iou(macro): 0.4835, training iou(micro): 0.8417\n",
      "validation loss: 0.8169, validation iou(macro): 0.2259, validation iou(micro): 0.6995\n",
      "epoch : 85\n",
      "training loss: 0.2533, training iou(macro): 0.4361, training iou(micro): 0.8449\n",
      "validation loss: 0.8193, validation iou(macro): 0.2497, validation iou(micro): 0.6932\n",
      "epoch : 86\n",
      "training loss: 0.2443, training iou(macro): 0.4896, training iou(micro): 0.8492\n",
      "validation loss: 0.7618, validation iou(macro): 0.2415, validation iou(micro): 0.6974\n",
      "epoch : 87\n",
      "training loss: 0.2402, training iou(macro): 0.5082, training iou(micro): 0.8507\n",
      "validation loss: 0.7189, validation iou(macro): 0.2238, validation iou(micro): 0.7003\n",
      "epoch : 88\n",
      "training loss: 0.2347, training iou(macro): 0.4824, training iou(micro): 0.8526\n",
      "validation loss: 0.7285, validation iou(macro): 0.2534, validation iou(micro): 0.7049\n",
      "epoch : 89\n",
      "training loss: 0.2307, training iou(macro): 0.5152, training iou(micro): 0.8550\n",
      "validation loss: 0.7779, validation iou(macro): 0.2499, validation iou(micro): 0.7012\n",
      "epoch : 90\n",
      "training loss: 0.2276, training iou(macro): 0.5248, training iou(micro): 0.8567\n",
      "validation loss: 0.7860, validation iou(macro): 0.2522, validation iou(micro): 0.6988\n",
      "epoch : 91\n",
      "training loss: 0.2298, training iou(macro): 0.4612, training iou(micro): 0.8554\n",
      "validation loss: 0.8410, validation iou(macro): 0.2625, validation iou(micro): 0.7002\n",
      "epoch : 92\n",
      "training loss: 0.2287, training iou(macro): 0.5295, training iou(micro): 0.8567\n",
      "validation loss: 0.8993, validation iou(macro): 0.2540, validation iou(micro): 0.7025\n",
      "epoch : 93\n",
      "training loss: 0.2288, training iou(macro): 0.4849, training iou(micro): 0.8570\n",
      "validation loss: 0.8732, validation iou(macro): 0.2464, validation iou(micro): 0.6913\n",
      "epoch : 94\n",
      "training loss: 0.2350, training iou(macro): 0.4893, training iou(micro): 0.8535\n",
      "validation loss: 0.8961, validation iou(macro): 0.2246, validation iou(micro): 0.6793\n",
      "epoch : 95\n",
      "training loss: 0.2397, training iou(macro): 0.5247, training iou(micro): 0.8502\n",
      "validation loss: 0.8761, validation iou(macro): 0.2111, validation iou(micro): 0.6824\n",
      "epoch : 96\n",
      "training loss: 0.2394, training iou(macro): 0.5093, training iou(micro): 0.8502\n",
      "validation loss: 0.7539, validation iou(macro): 0.2225, validation iou(micro): 0.6845\n",
      "epoch : 97\n",
      "training loss: 0.2318, training iou(macro): 0.5334, training iou(micro): 0.8558\n",
      "validation loss: 0.7168, validation iou(macro): 0.2601, validation iou(micro): 0.6845\n",
      "epoch : 98\n",
      "training loss: 0.2353, training iou(macro): 0.5209, training iou(micro): 0.8527\n",
      "validation loss: 0.7111, validation iou(macro): 0.2375, validation iou(micro): 0.6822\n",
      "epoch : 99\n",
      "training loss: 0.2428, training iou(macro): 0.5264, training iou(micro): 0.8483\n",
      "validation loss: 0.7335, validation iou(macro): 0.2329, validation iou(micro): 0.6861\n",
      "epoch : 100\n",
      "training loss: 0.2423, training iou(macro): 0.4659, training iou(micro): 0.8500\n",
      "validation loss: 0.7615, validation iou(macro): 0.2169, validation iou(micro): 0.6667\n"
     ]
    }
   ],
   "source": [
    "epochs = 100\n",
    "running_loss_history = []\n",
    "val_running_loss_history = []\n",
    "\n",
    "for e in range(epochs):\n",
    "    predlist=torch.zeros(0,dtype=torch.long, device='cpu')\n",
    "    labellist=torch.zeros(0,dtype=torch.long, device='cpu')\n",
    "\n",
    "    predlist_val=torch.zeros(0,dtype=torch.long, device='cpu')\n",
    "    labellist_val=torch.zeros(0,dtype=torch.long, device='cpu')\n",
    "    running_loss = 0.0\n",
    "    val_running_loss = 0.0\n",
    "    \n",
    "    \n",
    "    for inputs, labels in training_loader:\n",
    "        inputs = inputs.to(device)\n",
    "        labels = labels.to(device)\n",
    "        outputs = model(inputs)\n",
    "        loss = criterion(outputs, labels[:,0])\n",
    "        optimizer.zero_grad()\n",
    "        loss.backward()\n",
    "        optimizer.step()\n",
    "        running_loss += loss.item()\n",
    "        _,preds = torch.max(outputs, dim = 1)\n",
    "        predlist=torch.cat([predlist,preds.view(-1).cpu()])\n",
    "        labellist=torch.cat([labellist,labels.view(-1).cpu()])\n",
    "\n",
    "    \n",
    "\n",
    "    else:\n",
    "      with torch.no_grad(): # we do not need gradient for validation.\n",
    "        for val_inputs, val_labels in validation_loader:\n",
    "          val_inputs = val_inputs.to(device)\n",
    "          val_labels = val_labels.to(device)\n",
    "          val_outputs = model(val_inputs)\n",
    "          val_loss = criterion(val_outputs, val_labels[:,0])\n",
    "          \n",
    "          _, val_preds = torch.max(val_outputs, 1)\n",
    "          val_running_loss += val_loss.item()\n",
    "\n",
    "          predlist_val=torch.cat([predlist_val,val_preds.view(-1).cpu()])\n",
    "          labellist_val=torch.cat([labellist_val,val_labels.view(-1).cpu()])\n",
    "\n",
    "    lbl = predlist.cpu().numpy().reshape(-1)\n",
    "    target = labellist.cpu().numpy().reshape(-1)\n",
    "    iou_micro = jsc(target, lbl, average = 'micro' )\n",
    "    iou_macro = jsc(target, lbl, average = 'macro' )\n",
    "\n",
    "    epoch_loss = running_loss/len(training_loader)\n",
    "    running_loss_history.append(epoch_loss)\n",
    "    val_epoch_loss = val_running_loss/len(validation_loader)\n",
    "    val_running_loss_history.append(val_epoch_loss)\n",
    "\n",
    "\n",
    "    lbl_val = predlist_val.cpu().numpy().reshape(-1)\n",
    "    target_val = labellist_val.cpu().numpy().reshape(-1)\n",
    "    iou_val_micro = jsc(target_val, lbl_val, average = 'micro' )\n",
    "    iou_val_macro = jsc(target_val, lbl_val, average = 'macro' )\n",
    "\n",
    "    print('epoch :', (e+1))       \n",
    "    print('training loss: {:.4f}, training iou(macro): {:.4f}, training iou(micro): {:.4f}'.format(epoch_loss, iou_macro, iou_micro))\n",
    "    print('validation loss: {:.4f}, validation iou(macro): {:.4f}, validation iou(micro): {:.4f}'.format(val_epoch_loss, iou_val_macro, iou_val_micro))\n"
   ]
  },
  {
   "cell_type": "code",
   "execution_count": 11,
   "metadata": {
    "colab": {
     "base_uri": "https://localhost:8080/",
     "height": 283
    },
    "id": "9ONHqdSwok0_",
    "outputId": "68d2f09b-8db1-47af-93bd-6f7e968ba25b"
   },
   "outputs": [
    {
     "data": {
      "text/plain": [
       "<matplotlib.legend.Legend at 0x7f3ea95632e8>"
      ]
     },
     "execution_count": 11,
     "metadata": {
      "tags": []
     },
     "output_type": "execute_result"
    },
    {
     "data": {
      "image/png": "[encoded data removed]",
      "text/plain": [
       "<Figure size 432x288 with 1 Axes>"
      ]
     },
     "metadata": {
      "tags": []
     },
     "output_type": "display_data"
    }
   ],
   "source": [
    "plt.style.use('ggplot')\n",
    "plt.plot(running_loss_history, label='training loss')\n",
    "plt.plot(val_running_loss_history, label='validation loss')\n",
    "plt.legend()"
   ]
  },
  {
   "cell_type": "code",
   "execution_count": 12,
   "metadata": {
    "colab": {
     "base_uri": "https://localhost:8080/"
    },
    "id": "QcUuB3YOoH6X",
    "outputId": "106113d6-304f-4b96-a9a1-bc19bc79cb7a"
   },
   "outputs": [
    {
     "name": "stdout",
     "output_type": "stream",
     "text": [
      "test acc 0.8302 \n"
     ]
    }
   ],
   "source": [
    "# Evaluating performance on test set\n",
    "test_running_corrects = 0.0\n",
    "predlist=torch.zeros(0,dtype=torch.long, device='cpu')\n",
    "labellist=torch.zeros(0,dtype=torch.long, device='cpu')\n",
    "\n",
    "with torch.no_grad(): # we do not need gradient for validation.\n",
    "      for test_inputs, test_labels in test_loader:\n",
    "        test_inputs = test_inputs.to(device)\n",
    "        test_labels = test_labels.to(device)\n",
    "        test_outputs = model(test_inputs)\n",
    "        _, test_preds = torch.max(test_outputs, 1)\n",
    "        predlist=torch.cat([predlist,test_preds.view(-1).cpu()])\n",
    "        labellist=torch.cat([labellist,test_labels.view(-1).cpu()])\n",
    "        test_running_corrects += torch.sum(test_preds == test_labels[:,0].data)\n",
    "\n",
    "\n",
    "test_acc = test_running_corrects.float()/ (len(test_loader)*1024*256)\n",
    "print('test acc {:.4f} '.format(test_acc))"
   ]
  },
  {
   "cell_type": "code",
   "execution_count": 13,
   "metadata": {
    "colab": {
     "base_uri": "https://localhost:8080/"
    },
    "id": "Us1XO06V3d_g",
    "outputId": "960ed4b0-65da-4a71-bcaf-d4f28a89f994"
   },
   "outputs": [
    {
     "name": "stdout",
     "output_type": "stream",
     "text": [
      "0.709640729185145\n"
     ]
    }
   ],
   "source": [
    "# Calculating mean IOU for test set\n",
    "from sklearn.metrics import jaccard_score as jsc\n",
    "\n",
    "lbl = predlist.cpu().numpy().reshape(-1)\n",
    "target = labellist.cpu().numpy().reshape(-1)\n",
    "print(jsc(target, lbl, average = 'micro' ))"
   ]
  },
  {
   "cell_type": "code",
   "execution_count": 131,
   "metadata": {
    "colab": {
     "base_uri": "https://localhost:8080/"
    },
    "id": "JcJdrULNVwl1",
    "outputId": "8767a503-8a16-47d6-ba5b-d8e1f24fdb05"
   },
   "outputs": [
    {
     "name": "stdout",
     "output_type": "stream",
     "text": [
      "test acc 0.8053 \n"
     ]
    }
   ],
   "source": [
    "final_data = torch.utils.data.DataLoader(train_data, batch_size=1, shuffle=False)\n",
    "test_running_corrects = 0.0\n",
    "predlist=torch.zeros(0,dtype=torch.long, device='cpu')\n",
    "labellist=torch.zeros(0,dtype=torch.long, device='cpu')\n",
    "i = 0\n",
    "index = 115\n",
    "with torch.no_grad(): # we do not need gradient for validation.\n",
    "      for test_inputs, test_labels in final_data:\n",
    "        if i == index:\n",
    "          test_inputs = test_inputs.to(device)\n",
    "          test_labels = test_labels.to(device)\n",
    "          test_outputs = model(test_inputs)\n",
    "          _, test_preds = torch.max(test_outputs, 1)\n",
    "          predlist=torch.cat([predlist,test_preds.view(-1).cpu()])\n",
    "          labellist=torch.cat([labellist,test_labels.view(-1).cpu()])\n",
    "          test_running_corrects += torch.sum(test_preds == test_labels[:,0].data)\n",
    "          break\n",
    "        else:\n",
    "          i = i+1\n",
    "        \n",
    "\n",
    "test_acc = test_running_corrects.float()/(256*1024)\n",
    "print('test acc {:.4f} '.format(test_acc))"
   ]
  },
  {
   "cell_type": "code",
   "execution_count": 132,
   "metadata": {
    "id": "ED58aELo3Ljt"
   },
   "outputs": [],
   "source": [
    "# rename labels.py to id_labels\n",
    "import id_labels"
   ]
  },
  {
   "cell_type": "code",
   "execution_count": 133,
   "metadata": {
    "id": "6sOVSIp13Sl-"
   },
   "outputs": [],
   "source": [
    "from collections import defaultdict\n",
    "d = defaultdict(set)\n",
    "L = id_labels.labels\n",
    "for i in range(len(L)):\n",
    "  d[L[i][1]] = L[i][-1]\n",
    "\n"
   ]
  },
  {
   "cell_type": "code",
   "execution_count": 137,
   "metadata": {
    "colab": {
     "base_uri": "https://localhost:8080/"
    },
    "id": "sDG5GIZa_1O-",
    "outputId": "6c0e4898-08c7-40ec-dd51-dc4efee8948e"
   },
   "outputs": [
    {
     "data": {
      "text/plain": [
       "(1, 256, 1024)"
      ]
     },
     "execution_count": 137,
     "metadata": {
      "tags": []
     },
     "output_type": "execute_result"
    }
   ],
   "source": [
    "predictions = test_preds.cpu().numpy()\n",
    "predictions.shape"
   ]
  },
  {
   "cell_type": "code",
   "execution_count": 138,
   "metadata": {
    "id": "4ZQtUutwYJHr"
   },
   "outputs": [],
   "source": [
    "lst = []\n",
    "p = predictions[0,:]\n",
    "for i in range(len(p)):\n",
    "  for j in range(len(p[i])):\n",
    "    lst.append((d[p[i][j]]))\n"
   ]
  },
  {
   "cell_type": "code",
   "execution_count": 139,
   "metadata": {
    "id": "maU_bpOpYKbc"
   },
   "outputs": [],
   "source": [
    "arr = np.array(lst)"
   ]
  },
  {
   "cell_type": "code",
   "execution_count": 141,
   "metadata": {
    "id": "FP_oztggiDs-"
   },
   "outputs": [],
   "source": [
    "arr = np.reshape(arr,[256,1024,3])"
   ]
  },
  {
   "cell_type": "code",
   "execution_count": 144,
   "metadata": {
    "id": "u8f64DogiPep"
   },
   "outputs": [],
   "source": [
    "g = np.zeros([256,1024,3])\n",
    "for i in range(len(arr)):\n",
    "  for j in range(len(arr[i])):\n",
    "    for k in range(len(arr[i][j])):\n",
    "      g[i][j][k] = arr[i][j][k]/255.0"
   ]
  },
  {
   "cell_type": "code",
   "execution_count": 146,
   "metadata": {
    "colab": {
     "base_uri": "https://localhost:8080/"
    },
    "id": "clOzcCbjmC80",
    "outputId": "902e148f-661d-4e0d-ee30-ac8755d09045"
   },
   "outputs": [
    {
     "data": {
      "text/plain": [
       "True"
      ]
     },
     "execution_count": 146,
     "metadata": {
      "tags": []
     },
     "output_type": "execute_result"
    }
   ],
   "source": [
    "import cv2\n",
    "cv2.imwrite('color_img.jpg',arr)\n",
    "c = cv2.imread('color_img.jpg', 1)\n",
    "c = cv2.cvtColor(c, cv2.COLOR_BGR2RGB)\n",
    "cv2.imwrite('Final_img.jpg', c)"
   ]
  },
  {
   "cell_type": "code",
   "execution_count": 49,
   "metadata": {
    "id": "9qRTyDcH86hZ"
   },
   "outputs": [],
   "source": [
    "torch.save(model, \"./drive/My Drive/hw5/entire_model_fcn32_final.pt\")"
   ]
  },
  {
   "cell_type": "code",
   "execution_count": 50,
   "metadata": {
    "id": "xxi4Y5y088k4"
   },
   "outputs": [],
   "source": [
    "model = torch.load('./drive/My Drive/hw5/entire_model_fcn32_final.pt')"
   ]
  },
  {
   "cell_type": "code",
   "execution_count": null,
   "metadata": {
    "id": "4WF-dG2dGeDC"
   },
   "outputs": [],
   "source": [
    "model.eval()"
   ]
  }
 ],
 "metadata": {
  "accelerator": "GPU",
  "colab": {
   "collapsed_sections": [],
   "name": "CV_HW5_FCN32_final.ipynb",
   "provenance": []
  },
  "kernelspec": {
   "display_name": "Python 3",
   "language": "python",
   "name": "python3"
  },
  "language_info": {
   "codemirror_mode": {
    "name": "ipython",
    "version": 3
   },
   "file_extension": ".py",
   "mimetype": "text/x-python",
   "name": "python",
   "nbconvert_exporter": "python",
   "pygments_lexer": "ipython3",
   "version": "3.7.4"
  },
  "widgets": {
   "application/vnd.jupyter.widget-state+json": {
    "0d20397e69fe47f0ae873044c1e2b4a7": {
     "model_module": "@jupyter-widgets/controls",
     "model_name": "ProgressStyleModel",
     "state": {
      "_model_module": "@jupyter-widgets/controls",
      "_model_module_version": "1.5.0",
      "_model_name": "ProgressStyleModel",
      "_view_count": null,
      "_view_module": "@jupyter-widgets/base",
      "_view_module_version": "1.2.0",
      "_view_name": "StyleView",
      "bar_color": null,
      "description_width": "initial"
     }
    },
    "11f8a19ac81048959f358ab48c6aeacb": {
     "model_module": "@jupyter-widgets/controls",
     "model_name": "HBoxModel",
     "state": {
      "_dom_classes": [],
      "_model_module": "@jupyter-widgets/controls",
      "_model_module_version": "1.5.0",
      "_model_name": "HBoxModel",
      "_view_count": null,
      "_view_module": "@jupyter-widgets/controls",
      "_view_module_version": "1.5.0",
      "_view_name": "HBoxView",
      "box_style": "",
      "children": [
       "IPY_MODEL_66ec2e6021d64e4098b1fdee0da4ac49",
       "IPY_MODEL_a485ef5ef2784518a444d2667fa7f9bc"
      ],
      "layout": "IPY_MODEL_5800ec09231242acba8232c11aa5e8ad"
     }
    },
    "5800ec09231242acba8232c11aa5e8ad": {
     "model_module": "@jupyter-widgets/base",
     "model_name": "LayoutModel",
     "state": {
      "_model_module": "@jupyter-widgets/base",
      "_model_module_version": "1.2.0",
      "_model_name": "LayoutModel",
      "_view_count": null,
      "_view_module": "@jupyter-widgets/base",
      "_view_module_version": "1.2.0",
      "_view_name": "LayoutView",
      "align_content": null,
      "align_items": null,
      "align_self": null,
      "border": null,
      "bottom": null,
      "display": null,
      "flex": null,
      "flex_flow": null,
      "grid_area": null,
      "grid_auto_columns": null,
      "grid_auto_flow": null,
      "grid_auto_rows": null,
      "grid_column": null,
      "grid_gap": null,
      "grid_row": null,
      "grid_template_areas": null,
      "grid_template_columns": null,
      "grid_template_rows": null,
      "height": null,
      "justify_content": null,
      "justify_items": null,
      "left": null,
      "margin": null,
      "max_height": null,
      "max_width": null,
      "min_height": null,
      "min_width": null,
      "object_fit": null,
      "object_position": null,
      "order": null,
      "overflow": null,
      "overflow_x": null,
      "overflow_y": null,
      "padding": null,
      "right": null,
      "top": null,
      "visibility": null,
      "width": null
     }
    },
    "66ec2e6021d64e4098b1fdee0da4ac49": {
     "model_module": "@jupyter-widgets/controls",
     "model_name": "FloatProgressModel",
     "state": {
      "_dom_classes": [],
      "_model_module": "@jupyter-widgets/controls",
      "_model_module_version": "1.5.0",
      "_model_name": "FloatProgressModel",
      "_view_count": null,
      "_view_module": "@jupyter-widgets/controls",
      "_view_module_version": "1.5.0",
      "_view_name": "ProgressView",
      "bar_style": "success",
      "description": "100%",
      "description_tooltip": null,
      "layout": "IPY_MODEL_9dd064aac38448eaa95d35f671550162",
      "max": 553433881,
      "min": 0,
      "orientation": "horizontal",
      "style": "IPY_MODEL_0d20397e69fe47f0ae873044c1e2b4a7",
      "value": 553433881
     }
    },
    "9dd064aac38448eaa95d35f671550162": {
     "model_module": "@jupyter-widgets/base",
     "model_name": "LayoutModel",
     "state": {
      "_model_module": "@jupyter-widgets/base",
      "_model_module_version": "1.2.0",
      "_model_name": "LayoutModel",
      "_view_count": null,
      "_view_module": "@jupyter-widgets/base",
      "_view_module_version": "1.2.0",
      "_view_name": "LayoutView",
      "align_content": null,
      "align_items": null,
      "align_self": null,
      "border": null,
      "bottom": null,
      "display": null,
      "flex": null,
      "flex_flow": null,
      "grid_area": null,
      "grid_auto_columns": null,
      "grid_auto_flow": null,
      "grid_auto_rows": null,
      "grid_column": null,
      "grid_gap": null,
      "grid_row": null,
      "grid_template_areas": null,
      "grid_template_columns": null,
      "grid_template_rows": null,
      "height": null,
      "justify_content": null,
      "justify_items": null,
      "left": null,
      "margin": null,
      "max_height": null,
      "max_width": null,
      "min_height": null,
      "min_width": null,
      "object_fit": null,
      "object_position": null,
      "order": null,
      "overflow": null,
      "overflow_x": null,
      "overflow_y": null,
      "padding": null,
      "right": null,
      "top": null,
      "visibility": null,
      "width": null
     }
    },
    "a485ef5ef2784518a444d2667fa7f9bc": {
     "model_module": "@jupyter-widgets/controls",
     "model_name": "HTMLModel",
     "state": {
      "_dom_classes": [],
      "_model_module": "@jupyter-widgets/controls",
      "_model_module_version": "1.5.0",
      "_model_name": "HTMLModel",
      "_view_count": null,
      "_view_module": "@jupyter-widgets/controls",
      "_view_module_version": "1.5.0",
      "_view_name": "HTMLView",
      "description": "",
      "description_tooltip": null,
      "layout": "IPY_MODEL_e4ba714a7b0e4405a675a73dcdb37d2a",
      "placeholder": "​",
      "style": "IPY_MODEL_da308bd1a4b34eafbb206cc548e6cb06",
      "value": " 528M/528M [2:21:34&lt;00:00, 65.2kB/s]"
     }
    },
    "da308bd1a4b34eafbb206cc548e6cb06": {
     "model_module": "@jupyter-widgets/controls",
     "model_name": "DescriptionStyleModel",
     "state": {
      "_model_module": "@jupyter-widgets/controls",
      "_model_module_version": "1.5.0",
      "_model_name": "DescriptionStyleModel",
      "_view_count": null,
      "_view_module": "@jupyter-widgets/base",
      "_view_module_version": "1.2.0",
      "_view_name": "StyleView",
      "description_width": ""
     }
    },
    "e4ba714a7b0e4405a675a73dcdb37d2a": {
     "model_module": "@jupyter-widgets/base",
     "model_name": "LayoutModel",
     "state": {
      "_model_module": "@jupyter-widgets/base",
      "_model_module_version": "1.2.0",
      "_model_name": "LayoutModel",
      "_view_count": null,
      "_view_module": "@jupyter-widgets/base",
      "_view_module_version": "1.2.0",
      "_view_name": "LayoutView",
      "align_content": null,
      "align_items": null,
      "align_self": null,
      "border": null,
      "bottom": null,
      "display": null,
      "flex": null,
      "flex_flow": null,
      "grid_area": null,
      "grid_auto_columns": null,
      "grid_auto_flow": null,
      "grid_auto_rows": null,
      "grid_column": null,
      "grid_gap": null,
      "grid_row": null,
      "grid_template_areas": null,
      "grid_template_columns": null,
      "grid_template_rows": null,
      "height": null,
      "justify_content": null,
      "justify_items": null,
      "left": null,
      "margin": null,
      "max_height": null,
      "max_width": null,
      "min_height": null,
      "min_width": null,
      "object_fit": null,
      "object_position": null,
      "order": null,
      "overflow": null,
      "overflow_x": null,
      "overflow_y": null,
      "padding": null,
      "right": null,
      "top": null,
      "visibility": null,
      "width": null
     }
    }
   }
  }
 },
 "nbformat": 4,
 "nbformat_minor": 1
}
