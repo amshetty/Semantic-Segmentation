{
 "cells": [
  {
   "cell_type": "code",
   "execution_count": null,
   "metadata": {
    "id": "ni2CNDO7oH58"
   },
   "outputs": [],
   "source": [
    "import torch\n",
    "import torch.nn.functional as F\n",
    "from torchvision import datasets,transforms, models\n",
    "from torch import nn\n",
    "import matplotlib.pyplot as plt\n",
    "import numpy as np\n",
    "from sklearn.metrics import confusion_matrix\n",
    "from torch.utils.data import Dataset, DataLoader\n",
    "from natsort import natsorted\n",
    "from PIL import Image\n",
    "import os\n",
    "from torchvision.models.vgg import VGG"
   ]
  },
  {
   "cell_type": "code",
   "execution_count": null,
   "metadata": {
    "colab": {
     "base_uri": "https://localhost:8080/"
    },
    "id": "aKlnrMDNjLHc",
    "outputId": "1830dff0-e3ad-4cb5-bc15-09544368ef8e"
   },
   "outputs": [
    {
     "name": "stdout",
     "output_type": "stream",
     "text": [
      "Drive already mounted at /content/drive; to attempt to forcibly remount, call drive.mount(\"/content/drive\", force_remount=True).\n"
     ]
    }
   ],
   "source": [
    "from google.colab import drive\n",
    "drive.mount('/content/drive')"
   ]
  },
  {
   "cell_type": "code",
   "execution_count": null,
   "metadata": {
    "id": "wyWe6FGfoH6C"
   },
   "outputs": [],
   "source": [
    "device = torch.device(\"cuda:0\" if torch.cuda.is_available() else \"cpu\")\n",
    "main_dir = './drive/My Drive/hw5/training/image_2'\n",
    "label_dir = './drive/My Drive/hw5/training/semantic'\n",
    "\n",
    "# Loading model\n",
    "model_ft = models.vgg16(pretrained= True)\n",
    "# Loading convolution layers separately\n",
    "features = list(model_ft.features.children())\n",
    "# Loading dense layers\n",
    "classifier = list(model_ft.classifier.children())\n",
    "#Input features of layer 1 are padded 100x100\n",
    "features[0].padding=(100,100)"
   ]
  },
  {
   "cell_type": "code",
   "execution_count": null,
   "metadata": {
    "id": "pVN0_wqioH6F"
   },
   "outputs": [],
   "source": [
    "class FCN16VGG(nn.Module):\n",
    "    def __init__(self, num_classes = 35):\n",
    "        super(FCN16VGG, self).__init__()\n",
    "      \n",
    "        features, classifier = list(model_ft.features.children()), list(model_ft.classifier.children())\n",
    "\n",
    "        features[0].padding = (100, 100)\n",
    "\n",
    "        for f in features:\n",
    "            if 'MaxPool' in f.__class__.__name__:\n",
    "                f.ceil_mode = True\n",
    "            elif 'ReLU' in f.__class__.__name__:\n",
    "                f.inplace = True\n",
    "\n",
    "        self.features4 = nn.Sequential(*features[: 24])\n",
    "        self.features5 = nn.Sequential(*features[24:])\n",
    "\n",
    "        self.score_pool4 = nn.Conv2d(512, num_classes, kernel_size=1)\n",
    "        self.score_pool4.weight.data.zero_()\n",
    "        self.score_pool4.bias.data.zero_()\n",
    "\n",
    "        fc6 = nn.Conv2d(512, 4096, kernel_size=7)\n",
    "        fc7 = nn.Conv2d(4096, 4096, kernel_size=1)\n",
    "        score_fr = nn.Conv2d(4096, num_classes, kernel_size=1)\n",
    "        self.score_fr = nn.Sequential(\n",
    "            fc6, nn.ReLU(inplace=True), nn.Dropout(), fc7, nn.ReLU(inplace=True), nn.Dropout(), score_fr\n",
    "        )\n",
    "\n",
    "        self.upscore2 = nn.ConvTranspose2d(num_classes, num_classes, kernel_size=4, stride=2, bias=False)\n",
    "        self.upscore16 = nn.ConvTranspose2d(num_classes, num_classes, kernel_size=32, stride=16, bias=False)\n",
    "\n",
    "    def forward(self, x):\n",
    "        x_size = x.size()\n",
    "        pool4 = self.features4(x)\n",
    "        pool5 = self.features5(pool4)\n",
    "\n",
    "        score_fr = self.score_fr(pool5)\n",
    "        upscore2 = self.upscore2(score_fr)\n",
    "\n",
    "        score_pool4 = self.score_pool4(0.01 * pool4)\n",
    "        upscore16 = self.upscore16(score_pool4[:, :, 5: (5 + upscore2.size()[2]), 5: (5 + upscore2.size()[3])]\n",
    "                                   + upscore2)\n",
    "        return upscore16[:, :, 27: (27 + x_size[2]), 27: (27 + x_size[3])].contiguous()"
   ]
  },
  {
   "cell_type": "code",
   "execution_count": null,
   "metadata": {
    "id": "LWTxj9MQhx6c"
   },
   "outputs": [],
   "source": [
    "\n",
    "model = FCN16VGG().to(device)"
   ]
  },
  {
   "cell_type": "code",
   "execution_count": null,
   "metadata": {
    "id": "OcxpDAzKoH6I"
   },
   "outputs": [],
   "source": [
    "class CustomDataset(Dataset):\n",
    "    def __init__(self, main_dir, label_dir, transform):\n",
    "        self.main_dir = main_dir\n",
    "        self.label_dir = label_dir\n",
    "        self.transform = transform\n",
    "        all_imgs = os.listdir(main_dir)\n",
    "        all_imgs_label = os.listdir(label_dir)\n",
    "        self.total_imgs = natsorted(all_imgs)\n",
    "        self.total_imgs_label = natsorted(all_imgs_label)\n",
    "        \n",
    "    def __len__(self):\n",
    "        return len(self.total_imgs)\n",
    "    \n",
    "    def __getitem__(self, idx):\n",
    "        img_loc = os.path.join(self.main_dir, self.total_imgs[idx])\n",
    "        img_loc_label = os.path.join(self.label_dir, self.total_imgs_label[idx] )\n",
    "        image = Image.open(img_loc).convert('RGB')\n",
    "        labels = Image.open(img_loc_label).convert('P')\n",
    "        tensor_image = self.transform(image)\n",
    "        tensor_label = self.transform(labels)\n",
    "        return (tensor_image, (tensor_label*255).type(torch.LongTensor))"
   ]
  },
  {
   "cell_type": "code",
   "execution_count": null,
   "metadata": {
    "id": "acdO4ClCoH6L"
   },
   "outputs": [],
   "source": [
    "transform = transforms.Compose([transforms.Resize((256,1024)),\n",
    "                                transforms.ToTensor()])\n",
    "\n",
    "train_data = CustomDataset(main_dir, label_dir, transform)\n",
    "\n",
    "length_train=int(0.7*len(train_data))\n",
    "length_val= int(0.15*len(train_data))\n",
    "length_test = len(train_data) - length_train - length_val\n",
    "\n",
    "train, val, test = torch.utils.data.random_split(train_data, [length_train, length_val, length_test])\n",
    "\n",
    "\n",
    "training_loader = torch.utils.data.DataLoader(train, batch_size=1, shuffle=False)\n",
    "validation_loader = torch.utils.data.DataLoader(val, batch_size = 1, shuffle=False)\n",
    "test_loader = torch.utils.data.DataLoader(test, batch_size = 1, shuffle = False)"
   ]
  },
  {
   "cell_type": "code",
   "execution_count": null,
   "metadata": {
    "colab": {
     "base_uri": "https://localhost:8080/"
    },
    "id": "iHjhBkEpKcwC",
    "outputId": "44ade25c-93ac-40c9-929f-3c587b121afe"
   },
   "outputs": [
    {
     "name": "stdout",
     "output_type": "stream",
     "text": [
      "torch.Size([1, 3, 256, 1024]) torch.Size([1, 1, 256, 1024])\n"
     ]
    }
   ],
   "source": [
    "for image, labels in training_loader:\n",
    "  print(image.size(), labels.size())\n",
    "  break"
   ]
  },
  {
   "cell_type": "code",
   "execution_count": null,
   "metadata": {
    "id": "ltHFT5avoH6N"
   },
   "outputs": [],
   "source": [
    "from sklearn.metrics import jaccard_score as jsc"
   ]
  },
  {
   "cell_type": "code",
   "execution_count": null,
   "metadata": {
    "id": "Dx7Q9CVUoH6Q"
   },
   "outputs": [],
   "source": [
    "criterion = nn.CrossEntropyLoss()\n",
    "optimizer = torch.optim.Adam(model.parameters(), lr = 0.001) # fine tuned the lr"
   ]
  },
  {
   "cell_type": "code",
   "execution_count": null,
   "metadata": {
    "colab": {
     "base_uri": "https://localhost:8080/"
    },
    "id": "J7qZBzz1oH6U",
    "outputId": "efe49ea1-bbda-473b-be87-deeeb66ac422"
   },
   "outputs": [
    {
     "name": "stdout",
     "output_type": "stream",
     "text": [
      "epoch : 1\n",
      "training loss: 1.4024, training iou(macro): 0.0931, training iou(micro): 0.4709\n",
      "validation loss: 1.0820, validation iou(macro): 0.1340, validation iou(micro): 0.5705\n",
      "epoch : 2\n",
      "training loss: 0.8776, training iou(macro): 0.1325, training iou(micro): 0.6003\n",
      "validation loss: 0.8155, validation iou(macro): 0.1560, validation iou(micro): 0.6275\n",
      "epoch : 3\n",
      "training loss: 0.7229, training iou(macro): 0.1609, training iou(micro): 0.6418\n",
      "validation loss: 0.7801, validation iou(macro): 0.1861, validation iou(micro): 0.6445\n",
      "epoch : 4\n",
      "training loss: 0.6615, training iou(macro): 0.2060, training iou(micro): 0.6658\n",
      "validation loss: 0.7796, validation iou(macro): 0.1892, validation iou(micro): 0.6479\n",
      "epoch : 5\n",
      "training loss: 0.6093, training iou(macro): 0.2205, training iou(micro): 0.6777\n",
      "validation loss: 0.9777, validation iou(macro): 0.1792, validation iou(micro): 0.5807\n",
      "epoch : 6\n",
      "training loss: 0.6065, training iou(macro): 0.2495, training iou(micro): 0.6906\n",
      "validation loss: 0.8658, validation iou(macro): 0.2009, validation iou(micro): 0.6073\n",
      "epoch : 7\n",
      "training loss: 0.5420, training iou(macro): 0.3065, training iou(micro): 0.7167\n",
      "validation loss: 0.8809, validation iou(macro): 0.1850, validation iou(micro): 0.6342\n",
      "epoch : 8\n",
      "training loss: 0.4946, training iou(macro): 0.3539, training iou(micro): 0.7336\n",
      "validation loss: 0.7482, validation iou(macro): 0.2236, validation iou(micro): 0.6691\n",
      "epoch : 9\n",
      "training loss: 0.4450, training iou(macro): 0.3573, training iou(micro): 0.7544\n",
      "validation loss: 0.7886, validation iou(macro): 0.2247, validation iou(micro): 0.6546\n",
      "epoch : 10\n",
      "training loss: 0.4344, training iou(macro): 0.4052, training iou(micro): 0.7566\n",
      "validation loss: 0.8279, validation iou(macro): 0.2288, validation iou(micro): 0.6686\n",
      "epoch : 11\n",
      "training loss: 0.4373, training iou(macro): 0.3899, training iou(micro): 0.7556\n",
      "validation loss: 0.7188, validation iou(macro): 0.2319, validation iou(micro): 0.6548\n",
      "epoch : 12\n",
      "training loss: 0.4011, training iou(macro): 0.4249, training iou(micro): 0.7718\n",
      "validation loss: 0.7664, validation iou(macro): 0.2510, validation iou(micro): 0.6789\n",
      "epoch : 13\n",
      "training loss: 0.3768, training iou(macro): 0.4456, training iou(micro): 0.7816\n",
      "validation loss: 0.8055, validation iou(macro): 0.2408, validation iou(micro): 0.6635\n",
      "epoch : 14\n",
      "training loss: 0.3761, training iou(macro): 0.4491, training iou(micro): 0.7825\n",
      "validation loss: 0.8850, validation iou(macro): 0.2304, validation iou(micro): 0.6550\n",
      "epoch : 15\n",
      "training loss: 0.3613, training iou(macro): 0.4781, training iou(micro): 0.7863\n",
      "validation loss: 0.7931, validation iou(macro): 0.2330, validation iou(micro): 0.6738\n",
      "epoch : 16\n",
      "training loss: 0.3366, training iou(macro): 0.5019, training iou(micro): 0.7986\n",
      "validation loss: 0.7855, validation iou(macro): 0.2528, validation iou(micro): 0.6881\n",
      "epoch : 17\n",
      "training loss: 0.3255, training iou(macro): 0.4826, training iou(micro): 0.8029\n",
      "validation loss: 0.7854, validation iou(macro): 0.2572, validation iou(micro): 0.6819\n",
      "epoch : 18\n",
      "training loss: 0.3186, training iou(macro): 0.5012, training iou(micro): 0.8066\n",
      "validation loss: 0.6696, validation iou(macro): 0.2569, validation iou(micro): 0.6996\n",
      "epoch : 19\n",
      "training loss: 0.3105, training iou(macro): 0.5175, training iou(micro): 0.8121\n",
      "validation loss: 0.7306, validation iou(macro): 0.2527, validation iou(micro): 0.6953\n",
      "epoch : 20\n",
      "training loss: 0.3042, training iou(macro): 0.5171, training iou(micro): 0.8131\n",
      "validation loss: 0.6909, validation iou(macro): 0.2557, validation iou(micro): 0.6976\n",
      "epoch : 21\n",
      "training loss: 0.3064, training iou(macro): 0.4991, training iou(micro): 0.8116\n",
      "validation loss: 0.6524, validation iou(macro): 0.2774, validation iou(micro): 0.7176\n",
      "epoch : 22\n",
      "training loss: 0.3118, training iou(macro): 0.5025, training iou(micro): 0.8114\n",
      "validation loss: 0.6477, validation iou(macro): 0.2800, validation iou(micro): 0.7083\n",
      "epoch : 23\n",
      "training loss: 0.2978, training iou(macro): 0.5235, training iou(micro): 0.8168\n",
      "validation loss: 0.6527, validation iou(macro): 0.2575, validation iou(micro): 0.7078\n",
      "epoch : 24\n",
      "training loss: 0.3020, training iou(macro): 0.5183, training iou(micro): 0.8146\n",
      "validation loss: 0.6947, validation iou(macro): 0.2742, validation iou(micro): 0.7115\n",
      "epoch : 25\n",
      "training loss: 0.3031, training iou(macro): 0.5233, training iou(micro): 0.8156\n",
      "validation loss: 0.6782, validation iou(macro): 0.2663, validation iou(micro): 0.7025\n",
      "epoch : 26\n",
      "training loss: 0.2949, training iou(macro): 0.4992, training iou(micro): 0.8189\n",
      "validation loss: 0.7360, validation iou(macro): 0.2539, validation iou(micro): 0.7004\n",
      "epoch : 27\n",
      "training loss: 0.2947, training iou(macro): 0.4954, training iou(micro): 0.8184\n",
      "validation loss: 0.6584, validation iou(macro): 0.2620, validation iou(micro): 0.7138\n",
      "epoch : 28\n",
      "training loss: 0.2818, training iou(macro): 0.5410, training iou(micro): 0.8249\n",
      "validation loss: 0.6874, validation iou(macro): 0.2646, validation iou(micro): 0.7086\n",
      "epoch : 29\n",
      "training loss: 0.2830, training iou(macro): 0.5368, training iou(micro): 0.8234\n",
      "validation loss: 0.6922, validation iou(macro): 0.2766, validation iou(micro): 0.7099\n",
      "epoch : 30\n",
      "training loss: 0.2814, training iou(macro): 0.5562, training iou(micro): 0.8268\n",
      "validation loss: 0.6559, validation iou(macro): 0.2568, validation iou(micro): 0.7125\n",
      "epoch : 31\n",
      "training loss: 0.2747, training iou(macro): 0.5315, training iou(micro): 0.8301\n",
      "validation loss: 0.6959, validation iou(macro): 0.2741, validation iou(micro): 0.7083\n",
      "epoch : 32\n",
      "training loss: 0.2711, training iou(macro): 0.5518, training iou(micro): 0.8308\n",
      "validation loss: 0.6480, validation iou(macro): 0.2901, validation iou(micro): 0.7167\n",
      "epoch : 33\n",
      "training loss: 0.2729, training iou(macro): 0.5661, training iou(micro): 0.8310\n",
      "validation loss: 0.6493, validation iou(macro): 0.2723, validation iou(micro): 0.7161\n",
      "epoch : 34\n",
      "training loss: 0.2655, training iou(macro): 0.5790, training iou(micro): 0.8335\n",
      "validation loss: 0.6269, validation iou(macro): 0.2545, validation iou(micro): 0.7207\n",
      "epoch : 35\n",
      "training loss: 0.2532, training iou(macro): 0.5552, training iou(micro): 0.8395\n",
      "validation loss: 0.6330, validation iou(macro): 0.2845, validation iou(micro): 0.7213\n",
      "epoch : 36\n",
      "training loss: 0.2627, training iou(macro): 0.5687, training iou(micro): 0.8353\n",
      "validation loss: 0.6924, validation iou(macro): 0.2464, validation iou(micro): 0.6951\n",
      "epoch : 37\n",
      "training loss: 0.2607, training iou(macro): 0.5695, training iou(micro): 0.8370\n",
      "validation loss: 0.6975, validation iou(macro): 0.2779, validation iou(micro): 0.7065\n",
      "epoch : 38\n",
      "training loss: 0.2588, training iou(macro): 0.5314, training iou(micro): 0.8386\n",
      "validation loss: 0.6867, validation iou(macro): 0.2794, validation iou(micro): 0.7142\n",
      "epoch : 39\n",
      "training loss: 0.2575, training iou(macro): 0.5239, training iou(micro): 0.8388\n",
      "validation loss: 0.6910, validation iou(macro): 0.2745, validation iou(micro): 0.7090\n",
      "epoch : 40\n",
      "training loss: 0.2599, training iou(macro): 0.5472, training iou(micro): 0.8374\n",
      "validation loss: 0.6621, validation iou(macro): 0.2769, validation iou(micro): 0.7168\n",
      "epoch : 41\n",
      "training loss: 0.2493, training iou(macro): 0.5795, training iou(micro): 0.8428\n",
      "validation loss: 0.7958, validation iou(macro): 0.2589, validation iou(micro): 0.7066\n",
      "epoch : 42\n",
      "training loss: 0.2499, training iou(macro): 0.5747, training iou(micro): 0.8431\n",
      "validation loss: 0.6905, validation iou(macro): 0.2890, validation iou(micro): 0.7183\n",
      "epoch : 43\n",
      "training loss: 0.2411, training iou(macro): 0.6058, training iou(micro): 0.8461\n",
      "validation loss: 0.7502, validation iou(macro): 0.2741, validation iou(micro): 0.7104\n",
      "epoch : 44\n",
      "training loss: 0.2388, training iou(macro): 0.6184, training iou(micro): 0.8469\n",
      "validation loss: 0.6691, validation iou(macro): 0.2789, validation iou(micro): 0.7176\n",
      "epoch : 45\n",
      "training loss: 0.2340, training iou(macro): 0.6002, training iou(micro): 0.8503\n",
      "validation loss: 0.7659, validation iou(macro): 0.2682, validation iou(micro): 0.7012\n",
      "epoch : 46\n",
      "training loss: 0.2357, training iou(macro): 0.5959, training iou(micro): 0.8490\n",
      "validation loss: 0.7000, validation iou(macro): 0.2807, validation iou(micro): 0.7110\n",
      "epoch : 47\n",
      "training loss: 0.2446, training iou(macro): 0.5935, training iou(micro): 0.8450\n",
      "validation loss: 0.7618, validation iou(macro): 0.2966, validation iou(micro): 0.7102\n",
      "epoch : 48\n",
      "training loss: 0.2413, training iou(macro): 0.5784, training iou(micro): 0.8471\n",
      "validation loss: 0.7266, validation iou(macro): 0.3105, validation iou(micro): 0.7160\n",
      "epoch : 49\n",
      "training loss: 0.2394, training iou(macro): 0.5938, training iou(micro): 0.8491\n",
      "validation loss: 0.6682, validation iou(macro): 0.3012, validation iou(micro): 0.7325\n",
      "epoch : 50\n",
      "training loss: 0.2373, training iou(macro): 0.5403, training iou(micro): 0.8490\n",
      "validation loss: 0.6149, validation iou(macro): 0.2855, validation iou(micro): 0.7342\n",
      "epoch : 51\n",
      "training loss: 0.2297, training iou(macro): 0.5891, training iou(micro): 0.8536\n",
      "validation loss: 0.6391, validation iou(macro): 0.3019, validation iou(micro): 0.7285\n",
      "epoch : 52\n",
      "training loss: 0.2312, training iou(macro): 0.6037, training iou(micro): 0.8521\n",
      "validation loss: 0.6279, validation iou(macro): 0.2871, validation iou(micro): 0.7314\n",
      "epoch : 53\n",
      "training loss: 0.2310, training iou(macro): 0.5575, training iou(micro): 0.8521\n",
      "validation loss: 0.6532, validation iou(macro): 0.2803, validation iou(micro): 0.7331\n",
      "epoch : 54\n",
      "training loss: 0.2274, training iou(macro): 0.6011, training iou(micro): 0.8543\n",
      "validation loss: 0.6196, validation iou(macro): 0.2800, validation iou(micro): 0.7308\n",
      "epoch : 55\n",
      "training loss: 0.2282, training iou(macro): 0.5382, training iou(micro): 0.8541\n",
      "validation loss: 0.6530, validation iou(macro): 0.2934, validation iou(micro): 0.7302\n",
      "epoch : 56\n",
      "training loss: 0.2322, training iou(macro): 0.5273, training iou(micro): 0.8522\n",
      "validation loss: 0.6835, validation iou(macro): 0.2213, validation iou(micro): 0.7248\n",
      "epoch : 57\n",
      "training loss: 0.2416, training iou(macro): 0.5169, training iou(micro): 0.8486\n",
      "validation loss: 0.6866, validation iou(macro): 0.2719, validation iou(micro): 0.7300\n",
      "epoch : 58\n",
      "training loss: 0.2748, training iou(macro): 0.4952, training iou(micro): 0.8433\n",
      "validation loss: 0.6724, validation iou(macro): 0.2151, validation iou(micro): 0.7074\n",
      "epoch : 59\n",
      "training loss: 0.2636, training iou(macro): 0.4884, training iou(micro): 0.8401\n",
      "validation loss: 0.6783, validation iou(macro): 0.2418, validation iou(micro): 0.7179\n",
      "epoch : 60\n",
      "training loss: 0.2465, training iou(macro): 0.5081, training iou(micro): 0.8477\n",
      "validation loss: 0.6733, validation iou(macro): 0.2712, validation iou(micro): 0.7216\n",
      "epoch : 61\n",
      "training loss: 0.2310, training iou(macro): 0.5316, training iou(micro): 0.8537\n",
      "validation loss: 0.6706, validation iou(macro): 0.2937, validation iou(micro): 0.7235\n",
      "epoch : 62\n",
      "training loss: 0.2206, training iou(macro): 0.5462, training iou(micro): 0.8586\n",
      "validation loss: 0.7303, validation iou(macro): 0.2341, validation iou(micro): 0.7207\n",
      "epoch : 63\n",
      "training loss: 0.2165, training iou(macro): 0.5535, training iou(micro): 0.8600\n",
      "validation loss: 0.7537, validation iou(macro): 0.2451, validation iou(micro): 0.7224\n",
      "epoch : 64\n",
      "training loss: 0.2133, training iou(macro): 0.5680, training iou(micro): 0.8621\n",
      "validation loss: 0.6382, validation iou(macro): 0.2750, validation iou(micro): 0.7362\n",
      "epoch : 65\n",
      "training loss: 0.2129, training iou(macro): 0.5728, training iou(micro): 0.8618\n",
      "validation loss: 0.6575, validation iou(macro): 0.2759, validation iou(micro): 0.7367\n",
      "epoch : 66\n",
      "training loss: 0.2111, training iou(macro): 0.5712, training iou(micro): 0.8622\n",
      "validation loss: 0.6588, validation iou(macro): 0.2680, validation iou(micro): 0.7357\n",
      "epoch : 67\n",
      "training loss: 0.2079, training iou(macro): 0.5917, training iou(micro): 0.8645\n",
      "validation loss: 0.6862, validation iou(macro): 0.2509, validation iou(micro): 0.7263\n",
      "epoch : 68\n",
      "training loss: 0.2045, training iou(macro): 0.5825, training iou(micro): 0.8657\n",
      "validation loss: 0.6250, validation iou(macro): 0.3197, validation iou(micro): 0.7335\n",
      "epoch : 69\n",
      "training loss: 0.2042, training iou(macro): 0.5803, training iou(micro): 0.8658\n",
      "validation loss: 0.6315, validation iou(macro): 0.2781, validation iou(micro): 0.7293\n",
      "epoch : 70\n",
      "training loss: 0.2029, training iou(macro): 0.5815, training iou(micro): 0.8662\n",
      "validation loss: 0.6658, validation iou(macro): 0.2745, validation iou(micro): 0.7316\n",
      "epoch : 71\n",
      "training loss: 0.2051, training iou(macro): 0.5964, training iou(micro): 0.8658\n",
      "validation loss: 0.6218, validation iou(macro): 0.2875, validation iou(micro): 0.7341\n",
      "epoch : 72\n",
      "training loss: 0.2018, training iou(macro): 0.5928, training iou(micro): 0.8676\n",
      "validation loss: 0.6966, validation iou(macro): 0.2653, validation iou(micro): 0.7291\n",
      "epoch : 73\n",
      "training loss: 0.2009, training iou(macro): 0.5912, training iou(micro): 0.8677\n",
      "validation loss: 0.7187, validation iou(macro): 0.2803, validation iou(micro): 0.7335\n",
      "epoch : 74\n",
      "training loss: 0.2015, training iou(macro): 0.5810, training iou(micro): 0.8675\n",
      "validation loss: 0.6694, validation iou(macro): 0.2777, validation iou(micro): 0.7306\n",
      "epoch : 75\n",
      "training loss: 0.2031, training iou(macro): 0.6183, training iou(micro): 0.8665\n",
      "validation loss: 0.7683, validation iou(macro): 0.2765, validation iou(micro): 0.7261\n",
      "epoch : 76\n",
      "training loss: 0.2051, training iou(macro): 0.5881, training iou(micro): 0.8655\n",
      "validation loss: 0.7442, validation iou(macro): 0.2713, validation iou(micro): 0.7294\n",
      "epoch : 77\n",
      "training loss: 0.2066, training iou(macro): 0.5762, training iou(micro): 0.8654\n",
      "validation loss: 0.6854, validation iou(macro): 0.2603, validation iou(micro): 0.7306\n",
      "epoch : 78\n",
      "training loss: 0.2059, training iou(macro): 0.5993, training iou(micro): 0.8664\n",
      "validation loss: 0.6686, validation iou(macro): 0.2793, validation iou(micro): 0.7343\n",
      "epoch : 79\n",
      "training loss: 0.2070, training iou(macro): 0.5711, training iou(micro): 0.8655\n",
      "validation loss: 0.6784, validation iou(macro): 0.2816, validation iou(micro): 0.7346\n",
      "epoch : 80\n",
      "training loss: 0.2083, training iou(macro): 0.5782, training iou(micro): 0.8650\n",
      "validation loss: 0.6339, validation iou(macro): 0.2849, validation iou(micro): 0.7384\n",
      "epoch : 81\n",
      "training loss: 0.2122, training iou(macro): 0.5795, training iou(micro): 0.8635\n",
      "validation loss: 0.6337, validation iou(macro): 0.2780, validation iou(micro): 0.7362\n",
      "epoch : 82\n",
      "training loss: 0.2085, training iou(macro): 0.5775, training iou(micro): 0.8651\n",
      "validation loss: 0.6581, validation iou(macro): 0.2780, validation iou(micro): 0.7357\n",
      "epoch : 83\n",
      "training loss: 0.2001, training iou(macro): 0.6056, training iou(micro): 0.8689\n",
      "validation loss: 0.6150, validation iou(macro): 0.2799, validation iou(micro): 0.7383\n",
      "epoch : 84\n",
      "training loss: 0.1990, training iou(macro): 0.6174, training iou(micro): 0.8691\n",
      "validation loss: 0.6792, validation iou(macro): 0.2676, validation iou(micro): 0.7388\n",
      "epoch : 85\n",
      "training loss: 0.1951, training iou(macro): 0.6276, training iou(micro): 0.8707\n",
      "validation loss: 0.6417, validation iou(macro): 0.2801, validation iou(micro): 0.7351\n",
      "epoch : 86\n",
      "training loss: 0.1985, training iou(macro): 0.6389, training iou(micro): 0.8695\n",
      "validation loss: 0.6899, validation iou(macro): 0.3024, validation iou(micro): 0.7333\n",
      "epoch : 87\n",
      "training loss: 0.1952, training iou(macro): 0.5881, training iou(micro): 0.8713\n",
      "validation loss: 0.6867, validation iou(macro): 0.2797, validation iou(micro): 0.7346\n",
      "epoch : 88\n",
      "training loss: 0.1990, training iou(macro): 0.6465, training iou(micro): 0.8692\n",
      "validation loss: 0.7403, validation iou(macro): 0.2877, validation iou(micro): 0.7285\n",
      "epoch : 89\n",
      "training loss: 0.1931, training iou(macro): 0.6514, training iou(micro): 0.8723\n",
      "validation loss: 0.6798, validation iou(macro): 0.2636, validation iou(micro): 0.7347\n",
      "epoch : 90\n",
      "training loss: 0.1937, training iou(macro): 0.6261, training iou(micro): 0.8721\n",
      "validation loss: 0.7212, validation iou(macro): 0.2806, validation iou(micro): 0.7275\n",
      "epoch : 91\n",
      "training loss: 0.1934, training iou(macro): 0.6425, training iou(micro): 0.8725\n",
      "validation loss: 0.6479, validation iou(macro): 0.2796, validation iou(micro): 0.7346\n",
      "epoch : 92\n",
      "training loss: 0.1926, training iou(macro): 0.6393, training iou(micro): 0.8729\n",
      "validation loss: 0.6843, validation iou(macro): 0.2766, validation iou(micro): 0.7304\n",
      "epoch : 93\n",
      "training loss: 0.1912, training iou(macro): 0.6155, training iou(micro): 0.8736\n",
      "validation loss: 0.6459, validation iou(macro): 0.2664, validation iou(micro): 0.7316\n",
      "epoch : 94\n",
      "training loss: 0.1921, training iou(macro): 0.6192, training iou(micro): 0.8734\n",
      "validation loss: 0.6566, validation iou(macro): 0.2878, validation iou(micro): 0.7372\n",
      "epoch : 95\n",
      "training loss: 0.1953, training iou(macro): 0.6405, training iou(micro): 0.8714\n",
      "validation loss: 0.6418, validation iou(macro): 0.2840, validation iou(micro): 0.7380\n",
      "epoch : 96\n",
      "training loss: 0.1960, training iou(macro): 0.5877, training iou(micro): 0.8713\n",
      "validation loss: 0.6658, validation iou(macro): 0.2965, validation iou(micro): 0.7364\n",
      "epoch : 97\n",
      "training loss: 0.1957, training iou(macro): 0.6524, training iou(micro): 0.8718\n",
      "validation loss: 0.6573, validation iou(macro): 0.2803, validation iou(micro): 0.7383\n",
      "epoch : 98\n",
      "training loss: 0.1928, training iou(macro): 0.6407, training iou(micro): 0.8729\n",
      "validation loss: 0.6727, validation iou(macro): 0.2770, validation iou(micro): 0.7413\n",
      "epoch : 99\n",
      "training loss: 0.1946, training iou(macro): 0.6325, training iou(micro): 0.8721\n",
      "validation loss: 0.6392, validation iou(macro): 0.2674, validation iou(micro): 0.7359\n",
      "epoch : 100\n",
      "training loss: 0.1906, training iou(macro): 0.6214, training iou(micro): 0.8739\n",
      "validation loss: 0.7306, validation iou(macro): 0.2972, validation iou(micro): 0.7332\n"
     ]
    }
   ],
   "source": [
    "epochs = 100\n",
    "running_loss_history = []\n",
    "val_running_loss_history = []\n",
    "\n",
    "for e in range(epochs):\n",
    "    predlist=torch.zeros(0,dtype=torch.long, device='cpu')\n",
    "    labellist=torch.zeros(0,dtype=torch.long, device='cpu')\n",
    "\n",
    "    predlist_val=torch.zeros(0,dtype=torch.long, device='cpu')\n",
    "    labellist_val=torch.zeros(0,dtype=torch.long, device='cpu')\n",
    "    running_loss = 0.0\n",
    "    val_running_loss = 0.0\n",
    "    \n",
    "    \n",
    "    for inputs, labels in training_loader:\n",
    "        inputs = inputs.to(device)\n",
    "        labels = labels.to(device)\n",
    "        outputs = model(inputs)\n",
    "        loss = criterion(outputs, labels[:,0])\n",
    "        optimizer.zero_grad()\n",
    "        loss.backward()\n",
    "        optimizer.step()\n",
    "        running_loss += loss.item()\n",
    "        _,preds = torch.max(outputs, dim = 1)\n",
    "        predlist=torch.cat([predlist,preds.view(-1).cpu()])\n",
    "        labellist=torch.cat([labellist,labels.view(-1).cpu()])\n",
    "\n",
    "    \n",
    "\n",
    "    else:\n",
    "      with torch.no_grad(): # we do not need gradient for validation.\n",
    "        for val_inputs, val_labels in validation_loader:\n",
    "          val_inputs = val_inputs.to(device)\n",
    "          val_labels = val_labels.to(device)\n",
    "          val_outputs = model(val_inputs)\n",
    "          val_loss = criterion(val_outputs, val_labels[:,0])\n",
    "          \n",
    "          _, val_preds = torch.max(val_outputs, 1)\n",
    "          val_running_loss += val_loss.item()\n",
    "\n",
    "          predlist_val=torch.cat([predlist_val,val_preds.view(-1).cpu()])\n",
    "          labellist_val=torch.cat([labellist_val,val_labels.view(-1).cpu()])\n",
    "\n",
    "    lbl = predlist.cpu().numpy().reshape(-1)\n",
    "    target = labellist.cpu().numpy().reshape(-1)\n",
    "    iou_micro = jsc(target, lbl, average = 'micro' )\n",
    "    iou_macro = jsc(target, lbl, average = 'macro' )\n",
    "\n",
    "    epoch_loss = running_loss/len(training_loader)\n",
    "    running_loss_history.append(epoch_loss)\n",
    "    val_epoch_loss = val_running_loss/len(validation_loader)\n",
    "    val_running_loss_history.append(val_epoch_loss)\n",
    "\n",
    "    lbl_val = predlist_val.cpu().numpy().reshape(-1)\n",
    "    target_val = labellist_val.cpu().numpy().reshape(-1)\n",
    "    iou_val_micro = jsc(target_val, lbl_val, average = 'micro' )\n",
    "    iou_val_macro = jsc(target_val, lbl_val, average = 'macro' )\n",
    "\n",
    "    print('epoch :', (e+1))       \n",
    "    print('training loss: {:.4f}, training iou(macro): {:.4f}, training iou(micro): {:.4f}'.format(epoch_loss, iou_macro, iou_micro))\n",
    "    print('validation loss: {:.4f}, validation iou(macro): {:.4f}, validation iou(micro): {:.4f}'.format(val_epoch_loss, iou_val_macro, iou_val_micro))\n",
    "\n",
    "      \n",
    "        \n",
    "        \n",
    "        \n",
    "    \n",
    "    \n",
    "    \n",
    "    \n",
    "    \n",
    "    "
   ]
  },
  {
   "cell_type": "code",
   "execution_count": null,
   "metadata": {
    "colab": {
     "base_uri": "https://localhost:8080/",
     "height": 283
    },
    "id": "9ONHqdSwok0_",
    "outputId": "97161c3a-9df7-48db-8c81-20910cb9a181"
   },
   "outputs": [
    {
     "data": {
      "text/plain": [
       "<matplotlib.legend.Legend at 0x7f98c6b189e8>"
      ]
     },
     "execution_count": 14,
     "metadata": {
      "tags": []
     },
     "output_type": "execute_result"
    },
    {
     "data": {
      "image/png": "[encoded data removed]",
      "text/plain": [
       "<Figure size 432x288 with 1 Axes>"
      ]
     },
     "metadata": {
      "tags": []
     },
     "output_type": "display_data"
    }
   ],
   "source": [
    "plt.style.use('ggplot')\n",
    "plt.plot(running_loss_history, label='training loss')\n",
    "plt.plot(val_running_loss_history, label='validation loss')\n",
    "plt.legend()"
   ]
  },
  {
   "cell_type": "code",
   "execution_count": null,
   "metadata": {
    "colab": {
     "base_uri": "https://localhost:8080/"
    },
    "id": "QcUuB3YOoH6X",
    "outputId": "c19b4db0-c059-4003-bb47-da3491804316"
   },
   "outputs": [
    {
     "name": "stdout",
     "output_type": "stream",
     "text": [
      "test acc 0.8180 \n"
     ]
    }
   ],
   "source": [
    "# Evaluating model performance on test set\n",
    "test_running_corrects = 0.0\n",
    "predlist=torch.zeros(0,dtype=torch.long, device='cpu')\n",
    "labellist=torch.zeros(0,dtype=torch.long, device='cpu')\n",
    "\n",
    "with torch.no_grad(): # we do not need gradient for validation.\n",
    "      for test_inputs, test_labels in test_loader:\n",
    "        test_inputs = test_inputs.to(device)\n",
    "        test_labels = test_labels.to(device)\n",
    "        test_outputs = model(test_inputs)\n",
    "        _, test_preds = torch.max(test_outputs, 1)\n",
    "        predlist=torch.cat([predlist,test_preds.view(-1).cpu()])\n",
    "        labellist=torch.cat([labellist,test_labels.view(-1).cpu()])\n",
    "        test_running_corrects += torch.sum(test_preds == test_labels[:,0].data)\n",
    "\n",
    "\n",
    "test_acc = test_running_corrects.float()/ (len(test_loader)*256*1024)\n",
    "print('test acc {:.4f} '.format(test_acc))"
   ]
  },
  {
   "cell_type": "code",
   "execution_count": null,
   "metadata": {
    "colab": {
     "base_uri": "https://localhost:8080/"
    },
    "id": "Us1XO06V3d_g",
    "outputId": "f6da8bf2-8878-441c-b3bf-d034df34493e"
   },
   "outputs": [
    {
     "name": "stdout",
     "output_type": "stream",
     "text": [
      "0.6920701745930639\n"
     ]
    }
   ],
   "source": [
    "# IOU calculation for test set\n",
    "\n",
    "from sklearn.metrics import jaccard_score as jsc\n",
    "\n",
    "lbl = predlist.cpu().numpy().reshape(-1)\n",
    "target = labellist.cpu().numpy().reshape(-1)\n",
    "print(jsc(target, lbl, average = 'micro' ))"
   ]
  },
  {
   "cell_type": "code",
   "execution_count": null,
   "metadata": {
    "colab": {
     "base_uri": "https://localhost:8080/"
    },
    "id": "JcJdrULNVwl1",
    "outputId": "330c801d-e6c7-4d0f-eb28-cca5cd711f3f"
   },
   "outputs": [
    {
     "name": "stdout",
     "output_type": "stream",
     "text": [
      "test acc 0.7786 \n"
     ]
    }
   ],
   "source": [
    "#INFERENCE BLOCK. To Retreive predictions for any single image.\n",
    "\n",
    "final_data = torch.utils.data.DataLoader(train_data, batch_size=1, shuffle=False)\n",
    "test_running_corrects = 0.0\n",
    "predlist=torch.zeros(0,dtype=torch.long, device='cpu')\n",
    "labellist=torch.zeros(0,dtype=torch.long, device='cpu')\n",
    "i = 0\n",
    "# indicates the index of image that is to be retrieved\n",
    "index= 168\n",
    "with torch.no_grad(): # we do not need gradient for validation.\n",
    "      for test_inputs, test_labels in final_data:\n",
    "        if i == index:\n",
    "          test_inputs = test_inputs.to(device)\n",
    "          test_labels = test_labels.to(device)\n",
    "          test_outputs = model(test_inputs)\n",
    "          _, test_preds = torch.max(test_outputs, 1)\n",
    "          predlist=torch.cat([predlist,test_preds.view(-1).cpu()])\n",
    "          labellist=torch.cat([labellist,test_labels.view(-1).cpu()])\n",
    "          test_running_corrects += torch.sum(test_preds == test_labels[:,0].data)\n",
    "          break\n",
    "        else:\n",
    "            i +=1"
   ]
  },
  {
   "cell_type": "code",
   "execution_count": null,
   "metadata": {
    "id": "ED58aELo3Ljt"
   },
   "outputs": [],
   "source": [
    "# This is the labels.py file (renamed to id_labels) which contains id to color mapping\n",
    "import id_labels"
   ]
  },
  {
   "cell_type": "code",
   "execution_count": null,
   "metadata": {
    "id": "6sOVSIp13Sl-"
   },
   "outputs": [],
   "source": [
    "from collections import defaultdict\n",
    "d = defaultdict(set)\n",
    "L = id_labels.labels\n",
    "for i in range(len(L)):\n",
    "  d[L[i][1]] = L[i][-1]\n",
    "\n"
   ]
  },
  {
   "cell_type": "code",
   "execution_count": null,
   "metadata": {
    "colab": {
     "base_uri": "https://localhost:8080/"
    },
    "id": "sDG5GIZa_1O-",
    "outputId": "f70b017f-f456-4ded-b382-4731a2938e00"
   },
   "outputs": [
    {
     "data": {
      "text/plain": [
       "(1, 256, 1024)"
      ]
     },
     "execution_count": 23,
     "metadata": {
      "tags": []
     },
     "output_type": "execute_result"
    }
   ],
   "source": [
    "predictions = test_preds.cpu().numpy()\n",
    "predictions.shape"
   ]
  },
  {
   "cell_type": "code",
   "execution_count": null,
   "metadata": {
    "id": "4ZQtUutwYJHr"
   },
   "outputs": [],
   "source": [
    "lst = []\n",
    "p = predictions[0,:]\n",
    "for i in range(len(p)):\n",
    "  for j in range(len(p[i])):\n",
    "    lst.append((d[p[i][j]]))\n"
   ]
  },
  {
   "cell_type": "code",
   "execution_count": null,
   "metadata": {
    "id": "maU_bpOpYKbc"
   },
   "outputs": [],
   "source": [
    "arr = np.array(lst)"
   ]
  },
  {
   "cell_type": "code",
   "execution_count": null,
   "metadata": {
    "id": "FP_oztggiDs-"
   },
   "outputs": [],
   "source": [
    "arr = np.reshape(arr,[256,1024,3])"
   ]
  },
  {
   "cell_type": "code",
   "execution_count": null,
   "metadata": {
    "id": "u8f64DogiPep"
   },
   "outputs": [],
   "source": [
    "g = np.zeros([256,1024,3])\n",
    "for i in range(len(arr)):\n",
    "  for j in range(len(arr[i])):\n",
    "    for k in range(len(arr[i][j])):\n",
    "      g[i][j][k] = arr[i][j][k]/255.0"
   ]
  },
  {
   "cell_type": "code",
   "execution_count": null,
   "metadata": {
    "colab": {
     "base_uri": "https://localhost:8080/"
    },
    "id": "clOzcCbjmC80",
    "outputId": "7620bdc2-d5d6-45d4-e38e-9a17f42b4e77"
   },
   "outputs": [
    {
     "data": {
      "text/plain": [
       "True"
      ]
     },
     "execution_count": 32,
     "metadata": {
      "tags": []
     },
     "output_type": "execute_result"
    }
   ],
   "source": [
    "import cv2\n",
    "cv2.imwrite('color_img.jpg',arr)\n",
    "c = cv2.imread('color_img.jpg', 1)\n",
    "c = cv2.cvtColor(c, cv2.COLOR_BGR2RGB)\n",
    "cv2.imwrite('Final_img.jpg', c)"
   ]
  },
  {
   "cell_type": "code",
   "execution_count": null,
   "metadata": {
    "id": "9qRTyDcH86hZ"
   },
   "outputs": [],
   "source": [
    "torch.save(model, \"./drive/My Drive/hw5/entire_model_fcn16.pt\")"
   ]
  },
  {
   "cell_type": "code",
   "execution_count": null,
   "metadata": {
    "id": "xxi4Y5y088k4"
   },
   "outputs": [],
   "source": [
    "model = torch.load('./drive/My Drive/hw5/entire_model_fcn16.pt')"
   ]
  },
  {
   "cell_type": "code",
   "execution_count": null,
   "metadata": {
    "colab": {
     "base_uri": "https://localhost:8080/"
    },
    "id": "4WF-dG2dGeDC",
    "outputId": "187aa04a-1d09-4a77-c004-51de6b6c1261"
   },
   "outputs": [
    {
     "data": {
      "text/plain": [
       "FCN16VGG(\n",
       "  (features4): Sequential(\n",
       "    (0): Conv2d(3, 64, kernel_size=(3, 3), stride=(1, 1), padding=(100, 100))\n",
       "    (1): ReLU(inplace=True)\n",
       "    (2): Conv2d(64, 64, kernel_size=(3, 3), stride=(1, 1), padding=(1, 1))\n",
       "    (3): ReLU(inplace=True)\n",
       "    (4): MaxPool2d(kernel_size=2, stride=2, padding=0, dilation=1, ceil_mode=True)\n",
       "    (5): Conv2d(64, 128, kernel_size=(3, 3), stride=(1, 1), padding=(1, 1))\n",
       "    (6): ReLU(inplace=True)\n",
       "    (7): Conv2d(128, 128, kernel_size=(3, 3), stride=(1, 1), padding=(1, 1))\n",
       "    (8): ReLU(inplace=True)\n",
       "    (9): MaxPool2d(kernel_size=2, stride=2, padding=0, dilation=1, ceil_mode=True)\n",
       "    (10): Conv2d(128, 256, kernel_size=(3, 3), stride=(1, 1), padding=(1, 1))\n",
       "    (11): ReLU(inplace=True)\n",
       "    (12): Conv2d(256, 256, kernel_size=(3, 3), stride=(1, 1), padding=(1, 1))\n",
       "    (13): ReLU(inplace=True)\n",
       "    (14): Conv2d(256, 256, kernel_size=(3, 3), stride=(1, 1), padding=(1, 1))\n",
       "    (15): ReLU(inplace=True)\n",
       "    (16): MaxPool2d(kernel_size=2, stride=2, padding=0, dilation=1, ceil_mode=True)\n",
       "    (17): Conv2d(256, 512, kernel_size=(3, 3), stride=(1, 1), padding=(1, 1))\n",
       "    (18): ReLU(inplace=True)\n",
       "    (19): Conv2d(512, 512, kernel_size=(3, 3), stride=(1, 1), padding=(1, 1))\n",
       "    (20): ReLU(inplace=True)\n",
       "    (21): Conv2d(512, 512, kernel_size=(3, 3), stride=(1, 1), padding=(1, 1))\n",
       "    (22): ReLU(inplace=True)\n",
       "    (23): MaxPool2d(kernel_size=2, stride=2, padding=0, dilation=1, ceil_mode=True)\n",
       "  )\n",
       "  (features5): Sequential(\n",
       "    (0): Conv2d(512, 512, kernel_size=(3, 3), stride=(1, 1), padding=(1, 1))\n",
       "    (1): ReLU(inplace=True)\n",
       "    (2): Conv2d(512, 512, kernel_size=(3, 3), stride=(1, 1), padding=(1, 1))\n",
       "    (3): ReLU(inplace=True)\n",
       "    (4): Conv2d(512, 512, kernel_size=(3, 3), stride=(1, 1), padding=(1, 1))\n",
       "    (5): ReLU(inplace=True)\n",
       "    (6): MaxPool2d(kernel_size=2, stride=2, padding=0, dilation=1, ceil_mode=True)\n",
       "  )\n",
       "  (score_pool4): Conv2d(512, 35, kernel_size=(1, 1), stride=(1, 1))\n",
       "  (score_fr): Sequential(\n",
       "    (0): Conv2d(512, 4096, kernel_size=(7, 7), stride=(1, 1))\n",
       "    (1): ReLU(inplace=True)\n",
       "    (2): Dropout(p=0.5, inplace=False)\n",
       "    (3): Conv2d(4096, 4096, kernel_size=(1, 1), stride=(1, 1))\n",
       "    (4): ReLU(inplace=True)\n",
       "    (5): Dropout(p=0.5, inplace=False)\n",
       "    (6): Conv2d(4096, 35, kernel_size=(1, 1), stride=(1, 1))\n",
       "  )\n",
       "  (upscore2): ConvTranspose2d(35, 35, kernel_size=(4, 4), stride=(2, 2), bias=False)\n",
       "  (upscore16): ConvTranspose2d(35, 35, kernel_size=(32, 32), stride=(16, 16), bias=False)\n",
       ")"
      ]
     },
     "execution_count": 35,
     "metadata": {
      "tags": []
     },
     "output_type": "execute_result"
    }
   ],
   "source": [
    "model.eval()"
   ]
  }
 ],
 "metadata": {
  "accelerator": "GPU",
  "colab": {
   "collapsed_sections": [],
   "name": "CV_HW5_fcn16_final.ipynb",
   "provenance": []
  },
  "kernelspec": {
   "display_name": "Python 3",
   "language": "python",
   "name": "python3"
  },
  "language_info": {
   "codemirror_mode": {
    "name": "ipython",
    "version": 3
   },
   "file_extension": ".py",
   "mimetype": "text/x-python",
   "name": "python",
   "nbconvert_exporter": "python",
   "pygments_lexer": "ipython3",
   "version": "3.7.4"
  }
 },
 "nbformat": 4,
 "nbformat_minor": 1
}
